{
 "cells": [
  {
   "cell_type": "markdown",
   "metadata": {},
   "source": [
    "## Importing the libraries"
   ]
  },
  {
   "cell_type": "code",
   "execution_count": 2,
   "metadata": {
    "colab": {},
    "colab_type": "code",
    "id": "1pCdaPwblIrW"
   },
   "outputs": [],
   "source": [
    "import pandas as pd\n",
    "import matplotlib.pyplot as plt\n",
    "import seaborn as sns\n",
    "import json \n",
    "import numpy as np\n",
    "import warnings\n",
    "warnings.filterwarnings(\"ignore\")\n",
    "import os\n",
    "import re    \n",
    "import nltk  \n",
    "import string \n",
    "import warnings\n",
    "import matplotlib.image as mpimg \n",
    "import matplotlib.pyplot as plt \n",
    "import numpy as np\n",
    "import cv2\n",
    "import pandas_profiling"
   ]
  },
  {
   "cell_type": "markdown",
   "metadata": {},
   "source": [
    "# Read tweets Data"
   ]
  },
  {
   "cell_type": "code",
   "execution_count": 8,
   "metadata": {
    "colab": {},
    "colab_type": "code",
    "id": "QaKaW2vOlL5V"
   },
   "outputs": [],
   "source": [
    "\n",
    "tweet_json=pd.read_json('train_data.json')"
   ]
  },
  {
   "cell_type": "code",
   "execution_count": 9,
   "metadata": {
    "colab": {},
    "colab_type": "code",
    "id": "7afLrzP1ll0k"
   },
   "outputs": [],
   "source": [
    "\n",
    "s_t= []\n",
    "s_s = []\n",
    "time = []\n",
    "tic= []\n",
    "for col in tweet_json.records:\n",
    "    s_t.append(col['stocktwit_tweet']) \n",
    "    s_s.append(col['sentiment_score'])\n",
    "    time.append(pd.to_datetime(col['timestamp']))\n",
    "    tic.append(col['ticker'])\n",
    "tweet_json_data = pd.DataFrame({'stocktwit_Tweet':s_t, \n",
    "                          'Sentiment_score':s_s,\n",
    "                          'timestamp':time,\n",
    "                         'ticker':tic})\n",
    "\n",
    "\n"
   ]
  },
  {
   "cell_type": "code",
   "execution_count": 10,
   "metadata": {},
   "outputs": [
    {
     "data": {
      "text/html": [
       "<div>\n",
       "<style scoped>\n",
       "    .dataframe tbody tr th:only-of-type {\n",
       "        vertical-align: middle;\n",
       "    }\n",
       "\n",
       "    .dataframe tbody tr th {\n",
       "        vertical-align: top;\n",
       "    }\n",
       "\n",
       "    .dataframe thead th {\n",
       "        text-align: right;\n",
       "    }\n",
       "</style>\n",
       "<table border=\"1\" class=\"dataframe\">\n",
       "  <thead>\n",
       "    <tr style=\"text-align: right;\">\n",
       "      <th></th>\n",
       "      <th>stocktwit_Tweet</th>\n",
       "      <th>Sentiment_score</th>\n",
       "      <th>timestamp</th>\n",
       "      <th>ticker</th>\n",
       "    </tr>\n",
       "  </thead>\n",
       "  <tbody>\n",
       "    <tr>\n",
       "      <td>0</td>\n",
       "      <td>$AMD going up but hesitating however chart is ...</td>\n",
       "      <td>3</td>\n",
       "      <td>2018-09-19 18:38:28+00:00</td>\n",
       "      <td>$AMD</td>\n",
       "    </tr>\n",
       "    <tr>\n",
       "      <td>1</td>\n",
       "      <td>@inforlong @MariaGascon Despite\\nChina trade w...</td>\n",
       "      <td>3</td>\n",
       "      <td>2018-10-09 03:51:06+00:00</td>\n",
       "      <td>$CAT</td>\n",
       "    </tr>\n",
       "    <tr>\n",
       "      <td>2</td>\n",
       "      <td>$AVGO WTF?</td>\n",
       "      <td>2</td>\n",
       "      <td>2018-07-12 13:35:32+00:00</td>\n",
       "      <td>$AVGO</td>\n",
       "    </tr>\n",
       "    <tr>\n",
       "      <td>3</td>\n",
       "      <td>$PH\\n New Insider Filing On: \\n MULLER KLAUS P...</td>\n",
       "      <td>2</td>\n",
       "      <td>2018-07-19 03:32:50+00:00</td>\n",
       "      <td>$PH</td>\n",
       "    </tr>\n",
       "    <tr>\n",
       "      <td>4</td>\n",
       "      <td>$FB if it bounces tommorrow do the right thing...</td>\n",
       "      <td>3</td>\n",
       "      <td>2018-08-23 19:07:54+00:00</td>\n",
       "      <td>$FB</td>\n",
       "    </tr>\n",
       "    <tr>\n",
       "      <td>...</td>\n",
       "      <td>...</td>\n",
       "      <td>...</td>\n",
       "      <td>...</td>\n",
       "      <td>...</td>\n",
       "    </tr>\n",
       "    <tr>\n",
       "      <td>1039124</td>\n",
       "      <td>$AAPL I wonder why Guy Adami is always bearish...</td>\n",
       "      <td>2</td>\n",
       "      <td>2018-09-13 01:24:37+00:00</td>\n",
       "      <td>$AAPL</td>\n",
       "    </tr>\n",
       "    <tr>\n",
       "      <td>1039125</td>\n",
       "      <td>$AMD prepare yourselves for launch. Closing 28...</td>\n",
       "      <td>3</td>\n",
       "      <td>2018-09-04 18:01:16+00:00</td>\n",
       "      <td>$AMD</td>\n",
       "    </tr>\n",
       "    <tr>\n",
       "      <td>1039126</td>\n",
       "      <td>$CLF https://twitter.com/hrdrckminer/status/10...</td>\n",
       "      <td>2</td>\n",
       "      <td>2018-08-13 22:15:04+00:00</td>\n",
       "      <td>$CLF</td>\n",
       "    </tr>\n",
       "    <tr>\n",
       "      <td>1039127</td>\n",
       "      <td>$AMD 🔥🔥🔥</td>\n",
       "      <td>3</td>\n",
       "      <td>2018-09-04 15:25:59+00:00</td>\n",
       "      <td>$AMD</td>\n",
       "    </tr>\n",
       "    <tr>\n",
       "      <td>1039128</td>\n",
       "      <td>$FB damn should of shorted 196 after hours to ...</td>\n",
       "      <td>0</td>\n",
       "      <td>2018-07-25 21:29:03+00:00</td>\n",
       "      <td>$FB</td>\n",
       "    </tr>\n",
       "  </tbody>\n",
       "</table>\n",
       "<p>1039129 rows × 4 columns</p>\n",
       "</div>"
      ],
      "text/plain": [
       "                                           stocktwit_Tweet  Sentiment_score  \\\n",
       "0        $AMD going up but hesitating however chart is ...                3   \n",
       "1        @inforlong @MariaGascon Despite\\nChina trade w...                3   \n",
       "2                                               $AVGO WTF?                2   \n",
       "3        $PH\\n New Insider Filing On: \\n MULLER KLAUS P...                2   \n",
       "4        $FB if it bounces tommorrow do the right thing...                3   \n",
       "...                                                    ...              ...   \n",
       "1039124  $AAPL I wonder why Guy Adami is always bearish...                2   \n",
       "1039125  $AMD prepare yourselves for launch. Closing 28...                3   \n",
       "1039126  $CLF https://twitter.com/hrdrckminer/status/10...                2   \n",
       "1039127                                           $AMD 🔥🔥🔥                3   \n",
       "1039128  $FB damn should of shorted 196 after hours to ...                0   \n",
       "\n",
       "                        timestamp ticker  \n",
       "0       2018-09-19 18:38:28+00:00   $AMD  \n",
       "1       2018-10-09 03:51:06+00:00   $CAT  \n",
       "2       2018-07-12 13:35:32+00:00  $AVGO  \n",
       "3       2018-07-19 03:32:50+00:00    $PH  \n",
       "4       2018-08-23 19:07:54+00:00    $FB  \n",
       "...                           ...    ...  \n",
       "1039124 2018-09-13 01:24:37+00:00  $AAPL  \n",
       "1039125 2018-09-04 18:01:16+00:00   $AMD  \n",
       "1039126 2018-08-13 22:15:04+00:00   $CLF  \n",
       "1039127 2018-09-04 15:25:59+00:00   $AMD  \n",
       "1039128 2018-07-25 21:29:03+00:00    $FB  \n",
       "\n",
       "[1039129 rows x 4 columns]"
      ]
     },
     "execution_count": 10,
     "metadata": {},
     "output_type": "execute_result"
    }
   ],
   "source": [
    "tweet_json_data.head(-2)"
   ]
  },
  {
   "cell_type": "code",
   "execution_count": 11,
   "metadata": {
    "colab": {},
    "colab_type": "code",
    "id": "UNgl6ANxoUng"
   },
   "outputs": [],
   "source": [
    "tweet_json_data.to_csv('tweet_json_data.csv',index=False)\n"
   ]
  },
  {
   "cell_type": "code",
   "execution_count": 12,
   "metadata": {
    "colab": {
     "base_uri": "https://localhost:8080/",
     "height": 204
    },
    "colab_type": "code",
    "executionInfo": {
     "elapsed": 10609,
     "status": "ok",
     "timestamp": 1576686366422,
     "user": {
      "displayName": "pramod raju",
      "photoUrl": "https://lh3.googleusercontent.com/a-/AAuE7mB_vvFC4nH3839bAa71YKbOge9FDqffM6z0Qcg7RA=s64",
      "userId": "03605267971282508924"
     },
     "user_tz": -330
    },
    "id": "z36DAFu7obW4",
    "outputId": "dca10a5a-a8ab-46db-d942-75c600d66c38"
   },
   "outputs": [
    {
     "data": {
      "text/html": [
       "<div>\n",
       "<style scoped>\n",
       "    .dataframe tbody tr th:only-of-type {\n",
       "        vertical-align: middle;\n",
       "    }\n",
       "\n",
       "    .dataframe tbody tr th {\n",
       "        vertical-align: top;\n",
       "    }\n",
       "\n",
       "    .dataframe thead th {\n",
       "        text-align: right;\n",
       "    }\n",
       "</style>\n",
       "<table border=\"1\" class=\"dataframe\">\n",
       "  <thead>\n",
       "    <tr style=\"text-align: right;\">\n",
       "      <th></th>\n",
       "      <th>stocktwit_Tweet</th>\n",
       "      <th>Sentiment_score</th>\n",
       "      <th>timestamp</th>\n",
       "      <th>ticker</th>\n",
       "    </tr>\n",
       "  </thead>\n",
       "  <tbody>\n",
       "    <tr>\n",
       "      <td>0</td>\n",
       "      <td>$AMD going up but hesitating however chart is ...</td>\n",
       "      <td>3</td>\n",
       "      <td>2018-09-19 18:38:28+00:00</td>\n",
       "      <td>$AMD</td>\n",
       "    </tr>\n",
       "    <tr>\n",
       "      <td>1</td>\n",
       "      <td>@inforlong @MariaGascon Despite\\nChina trade w...</td>\n",
       "      <td>3</td>\n",
       "      <td>2018-10-09 03:51:06+00:00</td>\n",
       "      <td>$CAT</td>\n",
       "    </tr>\n",
       "    <tr>\n",
       "      <td>2</td>\n",
       "      <td>$AVGO WTF?</td>\n",
       "      <td>2</td>\n",
       "      <td>2018-07-12 13:35:32+00:00</td>\n",
       "      <td>$AVGO</td>\n",
       "    </tr>\n",
       "    <tr>\n",
       "      <td>3</td>\n",
       "      <td>$PH\\n New Insider Filing On: \\n MULLER KLAUS P...</td>\n",
       "      <td>2</td>\n",
       "      <td>2018-07-19 03:32:50+00:00</td>\n",
       "      <td>$PH</td>\n",
       "    </tr>\n",
       "    <tr>\n",
       "      <td>4</td>\n",
       "      <td>$FB if it bounces tommorrow do the right thing...</td>\n",
       "      <td>3</td>\n",
       "      <td>2018-08-23 19:07:54+00:00</td>\n",
       "      <td>$FB</td>\n",
       "    </tr>\n",
       "  </tbody>\n",
       "</table>\n",
       "</div>"
      ],
      "text/plain": [
       "                                     stocktwit_Tweet  Sentiment_score  \\\n",
       "0  $AMD going up but hesitating however chart is ...                3   \n",
       "1  @inforlong @MariaGascon Despite\\nChina trade w...                3   \n",
       "2                                         $AVGO WTF?                2   \n",
       "3  $PH\\n New Insider Filing On: \\n MULLER KLAUS P...                2   \n",
       "4  $FB if it bounces tommorrow do the right thing...                3   \n",
       "\n",
       "                  timestamp ticker  \n",
       "0 2018-09-19 18:38:28+00:00   $AMD  \n",
       "1 2018-10-09 03:51:06+00:00   $CAT  \n",
       "2 2018-07-12 13:35:32+00:00  $AVGO  \n",
       "3 2018-07-19 03:32:50+00:00    $PH  \n",
       "4 2018-08-23 19:07:54+00:00    $FB  "
      ]
     },
     "execution_count": 12,
     "metadata": {},
     "output_type": "execute_result"
    }
   ],
   "source": [
    "tweet_json_data.head()"
   ]
  },
  {
   "cell_type": "markdown",
   "metadata": {},
   "source": [
    "# Pre-Processing of TWEET data"
   ]
  },
  {
   "cell_type": "code",
   "execution_count": 19,
   "metadata": {
    "colab": {},
    "colab_type": "code",
    "id": "w6nwbiXVquKl"
   },
   "outputs": [],
   "source": [
    "import urllib.request as url \n",
    "\n",
    "#!pip install bs4\n",
    "from bs4 import BeautifulSoup as bs\n",
    "\n",
    "#!pip install wordcloud\n",
    "from wordcloud import WordCloud\n",
    "\n",
    "import re\n",
    "import requests\n",
    "\n",
    "\n",
    "import random\n",
    "random.seed(123)\n",
    "import spacy"
   ]
  },
  {
   "cell_type": "code",
   "execution_count": 20,
   "metadata": {
    "colab": {},
    "colab_type": "code",
    "id": "snzDFtieyOL8"
   },
   "outputs": [],
   "source": [
    "#pip install emoji"
   ]
  },
  {
   "cell_type": "markdown",
   "metadata": {},
   "source": [
    "### Removing the duplicate TWEETS"
   ]
  },
  {
   "cell_type": "code",
   "execution_count": 21,
   "metadata": {},
   "outputs": [],
   "source": [
    "tweet_json_data['stocktwit_Tweet'].drop_duplicates(keep='first', inplace=True)"
   ]
  },
  {
   "cell_type": "markdown",
   "metadata": {
    "colab_type": "text",
    "id": "PRK40a3SzMjy"
   },
   "source": [
    "\n",
    "### Converting Emoji to Text"
   ]
  },
  {
   "cell_type": "code",
   "execution_count": 24,
   "metadata": {
    "colab": {},
    "colab_type": "code",
    "id": "_nIpDSOcyBO_"
   },
   "outputs": [],
   "source": [
    "import emoji\n",
    "\n",
    "tweet_json_data['cln_tweet']=tweet_json_data['stocktwit_Tweet'].apply(lambda x: emoji.demojize(x))"
   ]
  },
  {
   "cell_type": "code",
   "execution_count": 25,
   "metadata": {
    "colab": {
     "base_uri": "https://localhost:8080/",
     "height": 419
    },
    "colab_type": "code",
    "executionInfo": {
     "elapsed": 1965,
     "status": "ok",
     "timestamp": 1576687113680,
     "user": {
      "displayName": "pramod raju",
      "photoUrl": "https://lh3.googleusercontent.com/a-/AAuE7mB_vvFC4nH3839bAa71YKbOge9FDqffM6z0Qcg7RA=s64",
      "userId": "03605267971282508924"
     },
     "user_tz": -330
    },
    "id": "8DU5JtJJ38Af",
    "outputId": "21c0518f-713f-4cf4-b3f7-c86bd89beb22"
   },
   "outputs": [
    {
     "data": {
      "text/html": [
       "<div>\n",
       "<style scoped>\n",
       "    .dataframe tbody tr th:only-of-type {\n",
       "        vertical-align: middle;\n",
       "    }\n",
       "\n",
       "    .dataframe tbody tr th {\n",
       "        vertical-align: top;\n",
       "    }\n",
       "\n",
       "    .dataframe thead th {\n",
       "        text-align: right;\n",
       "    }\n",
       "</style>\n",
       "<table border=\"1\" class=\"dataframe\">\n",
       "  <thead>\n",
       "    <tr style=\"text-align: right;\">\n",
       "      <th></th>\n",
       "      <th>stocktwit_Tweet</th>\n",
       "      <th>Sentiment_score</th>\n",
       "      <th>timestamp</th>\n",
       "      <th>ticker</th>\n",
       "      <th>cln_tweet</th>\n",
       "    </tr>\n",
       "  </thead>\n",
       "  <tbody>\n",
       "    <tr>\n",
       "      <td>0</td>\n",
       "      <td>$AMD going up but hesitating however chart is ...</td>\n",
       "      <td>3</td>\n",
       "      <td>2018-09-19 18:38:28+00:00</td>\n",
       "      <td>$AMD</td>\n",
       "      <td>$AMD going up but hesitating however chart is ...</td>\n",
       "    </tr>\n",
       "    <tr>\n",
       "      <td>1</td>\n",
       "      <td>@inforlong @MariaGascon Despite\\nChina trade w...</td>\n",
       "      <td>3</td>\n",
       "      <td>2018-10-09 03:51:06+00:00</td>\n",
       "      <td>$CAT</td>\n",
       "      <td>@inforlong @MariaGascon Despite\\nChina trade w...</td>\n",
       "    </tr>\n",
       "    <tr>\n",
       "      <td>2</td>\n",
       "      <td>$AVGO WTF?</td>\n",
       "      <td>2</td>\n",
       "      <td>2018-07-12 13:35:32+00:00</td>\n",
       "      <td>$AVGO</td>\n",
       "      <td>$AVGO WTF?</td>\n",
       "    </tr>\n",
       "    <tr>\n",
       "      <td>3</td>\n",
       "      <td>$PH\\n New Insider Filing On: \\n MULLER KLAUS P...</td>\n",
       "      <td>2</td>\n",
       "      <td>2018-07-19 03:32:50+00:00</td>\n",
       "      <td>$PH</td>\n",
       "      <td>$PH\\n New Insider Filing On: \\n MULLER KLAUS P...</td>\n",
       "    </tr>\n",
       "    <tr>\n",
       "      <td>4</td>\n",
       "      <td>$FB if it bounces tommorrow do the right thing...</td>\n",
       "      <td>3</td>\n",
       "      <td>2018-08-23 19:07:54+00:00</td>\n",
       "      <td>$FB</td>\n",
       "      <td>$FB if it bounces tommorrow do the right thing...</td>\n",
       "    </tr>\n",
       "    <tr>\n",
       "      <td>...</td>\n",
       "      <td>...</td>\n",
       "      <td>...</td>\n",
       "      <td>...</td>\n",
       "      <td>...</td>\n",
       "      <td>...</td>\n",
       "    </tr>\n",
       "    <tr>\n",
       "      <td>1039126</td>\n",
       "      <td>$CLF https://twitter.com/hrdrckminer/status/10...</td>\n",
       "      <td>2</td>\n",
       "      <td>2018-08-13 22:15:04+00:00</td>\n",
       "      <td>$CLF</td>\n",
       "      <td>$CLF https://twitter.com/hrdrckminer/status/10...</td>\n",
       "    </tr>\n",
       "    <tr>\n",
       "      <td>1039127</td>\n",
       "      <td>$AMD 🔥🔥🔥</td>\n",
       "      <td>3</td>\n",
       "      <td>2018-09-04 15:25:59+00:00</td>\n",
       "      <td>$AMD</td>\n",
       "      <td>NaN</td>\n",
       "    </tr>\n",
       "    <tr>\n",
       "      <td>1039128</td>\n",
       "      <td>$FB damn should of shorted 196 after hours to ...</td>\n",
       "      <td>0</td>\n",
       "      <td>2018-07-25 21:29:03+00:00</td>\n",
       "      <td>$FB</td>\n",
       "      <td>$FB damn should of shorted 196 after hours to ...</td>\n",
       "    </tr>\n",
       "    <tr>\n",
       "      <td>1039129</td>\n",
       "      <td>$AMD back to the 31&amp;#39;s</td>\n",
       "      <td>0</td>\n",
       "      <td>2018-09-28 16:19:55+00:00</td>\n",
       "      <td>$AMD</td>\n",
       "      <td>$AMD back to the 31&amp;#39;s</td>\n",
       "    </tr>\n",
       "    <tr>\n",
       "      <td>1039130</td>\n",
       "      <td>$AMZN Lagging other tech today.</td>\n",
       "      <td>2</td>\n",
       "      <td>2018-07-05 17:14:00+00:00</td>\n",
       "      <td>$AMZN</td>\n",
       "      <td>$AMZN Lagging other tech today.</td>\n",
       "    </tr>\n",
       "  </tbody>\n",
       "</table>\n",
       "<p>1039131 rows × 5 columns</p>\n",
       "</div>"
      ],
      "text/plain": [
       "                                           stocktwit_Tweet  Sentiment_score  \\\n",
       "0        $AMD going up but hesitating however chart is ...                3   \n",
       "1        @inforlong @MariaGascon Despite\\nChina trade w...                3   \n",
       "2                                               $AVGO WTF?                2   \n",
       "3        $PH\\n New Insider Filing On: \\n MULLER KLAUS P...                2   \n",
       "4        $FB if it bounces tommorrow do the right thing...                3   \n",
       "...                                                    ...              ...   \n",
       "1039126  $CLF https://twitter.com/hrdrckminer/status/10...                2   \n",
       "1039127                                           $AMD 🔥🔥🔥                3   \n",
       "1039128  $FB damn should of shorted 196 after hours to ...                0   \n",
       "1039129                          $AMD back to the 31&#39;s                0   \n",
       "1039130                    $AMZN Lagging other tech today.                2   \n",
       "\n",
       "                        timestamp ticker  \\\n",
       "0       2018-09-19 18:38:28+00:00   $AMD   \n",
       "1       2018-10-09 03:51:06+00:00   $CAT   \n",
       "2       2018-07-12 13:35:32+00:00  $AVGO   \n",
       "3       2018-07-19 03:32:50+00:00    $PH   \n",
       "4       2018-08-23 19:07:54+00:00    $FB   \n",
       "...                           ...    ...   \n",
       "1039126 2018-08-13 22:15:04+00:00   $CLF   \n",
       "1039127 2018-09-04 15:25:59+00:00   $AMD   \n",
       "1039128 2018-07-25 21:29:03+00:00    $FB   \n",
       "1039129 2018-09-28 16:19:55+00:00   $AMD   \n",
       "1039130 2018-07-05 17:14:00+00:00  $AMZN   \n",
       "\n",
       "                                                 cln_tweet  \n",
       "0        $AMD going up but hesitating however chart is ...  \n",
       "1        @inforlong @MariaGascon Despite\\nChina trade w...  \n",
       "2                                               $AVGO WTF?  \n",
       "3        $PH\\n New Insider Filing On: \\n MULLER KLAUS P...  \n",
       "4        $FB if it bounces tommorrow do the right thing...  \n",
       "...                                                    ...  \n",
       "1039126  $CLF https://twitter.com/hrdrckminer/status/10...  \n",
       "1039127                                                NaN  \n",
       "1039128  $FB damn should of shorted 196 after hours to ...  \n",
       "1039129                          $AMD back to the 31&#39;s  \n",
       "1039130                    $AMZN Lagging other tech today.  \n",
       "\n",
       "[1039131 rows x 5 columns]"
      ]
     },
     "execution_count": 25,
     "metadata": {},
     "output_type": "execute_result"
    }
   ],
   "source": [
    "tweet_json_data"
   ]
  },
  {
   "cell_type": "markdown",
   "metadata": {
    "colab_type": "text",
    "id": "Ka2TAKKVzFjl"
   },
   "source": [
    "### Removing the url's from tweets"
   ]
  },
  {
   "cell_type": "code",
   "execution_count": 27,
   "metadata": {
    "colab": {
     "base_uri": "https://localhost:8080/",
     "height": 419
    },
    "colab_type": "code",
    "executionInfo": {
     "elapsed": 6301,
     "status": "ok",
     "timestamp": 1576687137812,
     "user": {
      "displayName": "pramod raju",
      "photoUrl": "https://lh3.googleusercontent.com/a-/AAuE7mB_vvFC4nH3839bAa71YKbOge9FDqffM6z0Qcg7RA=s64",
      "userId": "03605267971282508924"
     },
     "user_tz": -330
    },
    "id": "PFjjV7skx_Pt",
    "outputId": "68dfede6-7171-4688-d9d7-c8378a1010a1"
   },
   "outputs": [
    {
     "data": {
      "text/html": [
       "<div>\n",
       "<style scoped>\n",
       "    .dataframe tbody tr th:only-of-type {\n",
       "        vertical-align: middle;\n",
       "    }\n",
       "\n",
       "    .dataframe tbody tr th {\n",
       "        vertical-align: top;\n",
       "    }\n",
       "\n",
       "    .dataframe thead th {\n",
       "        text-align: right;\n",
       "    }\n",
       "</style>\n",
       "<table border=\"1\" class=\"dataframe\">\n",
       "  <thead>\n",
       "    <tr style=\"text-align: right;\">\n",
       "      <th></th>\n",
       "      <th>stocktwit_Tweet</th>\n",
       "      <th>Sentiment_score</th>\n",
       "      <th>timestamp</th>\n",
       "      <th>ticker</th>\n",
       "      <th>cln_tweet</th>\n",
       "    </tr>\n",
       "  </thead>\n",
       "  <tbody>\n",
       "    <tr>\n",
       "      <td>0</td>\n",
       "      <td>$AMD going up but hesitating however chart is ...</td>\n",
       "      <td>3</td>\n",
       "      <td>2018-09-19 18:38:28+00:00</td>\n",
       "      <td>$AMD</td>\n",
       "      <td>$AMD going up but hesitating however chart is ...</td>\n",
       "    </tr>\n",
       "    <tr>\n",
       "      <td>1</td>\n",
       "      <td>@inforlong @MariaGascon Despite\\nChina trade w...</td>\n",
       "      <td>3</td>\n",
       "      <td>2018-10-09 03:51:06+00:00</td>\n",
       "      <td>$CAT</td>\n",
       "      <td>@inforlong @MariaGascon Despite\\nChina trade w...</td>\n",
       "    </tr>\n",
       "    <tr>\n",
       "      <td>2</td>\n",
       "      <td>$AVGO WTF?</td>\n",
       "      <td>2</td>\n",
       "      <td>2018-07-12 13:35:32+00:00</td>\n",
       "      <td>$AVGO</td>\n",
       "      <td>$AVGO WTF?</td>\n",
       "    </tr>\n",
       "    <tr>\n",
       "      <td>3</td>\n",
       "      <td>$PH\\n New Insider Filing On: \\n MULLER KLAUS P...</td>\n",
       "      <td>2</td>\n",
       "      <td>2018-07-19 03:32:50+00:00</td>\n",
       "      <td>$PH</td>\n",
       "      <td>$PH\\n New Insider Filing On: \\n MULLER KLAUS P...</td>\n",
       "    </tr>\n",
       "    <tr>\n",
       "      <td>4</td>\n",
       "      <td>$FB if it bounces tommorrow do the right thing...</td>\n",
       "      <td>3</td>\n",
       "      <td>2018-08-23 19:07:54+00:00</td>\n",
       "      <td>$FB</td>\n",
       "      <td>$FB if it bounces tommorrow do the right thing...</td>\n",
       "    </tr>\n",
       "    <tr>\n",
       "      <td>...</td>\n",
       "      <td>...</td>\n",
       "      <td>...</td>\n",
       "      <td>...</td>\n",
       "      <td>...</td>\n",
       "      <td>...</td>\n",
       "    </tr>\n",
       "    <tr>\n",
       "      <td>1039126</td>\n",
       "      <td>$CLF https://twitter.com/hrdrckminer/status/10...</td>\n",
       "      <td>2</td>\n",
       "      <td>2018-08-13 22:15:04+00:00</td>\n",
       "      <td>$CLF</td>\n",
       "      <td>$CLF</td>\n",
       "    </tr>\n",
       "    <tr>\n",
       "      <td>1039127</td>\n",
       "      <td>$AMD 🔥🔥🔥</td>\n",
       "      <td>3</td>\n",
       "      <td>2018-09-04 15:25:59+00:00</td>\n",
       "      <td>$AMD</td>\n",
       "      <td>NaN</td>\n",
       "    </tr>\n",
       "    <tr>\n",
       "      <td>1039128</td>\n",
       "      <td>$FB damn should of shorted 196 after hours to ...</td>\n",
       "      <td>0</td>\n",
       "      <td>2018-07-25 21:29:03+00:00</td>\n",
       "      <td>$FB</td>\n",
       "      <td>$FB damn should of shorted 196 after hours to ...</td>\n",
       "    </tr>\n",
       "    <tr>\n",
       "      <td>1039129</td>\n",
       "      <td>$AMD back to the 31&amp;#39;s</td>\n",
       "      <td>0</td>\n",
       "      <td>2018-09-28 16:19:55+00:00</td>\n",
       "      <td>$AMD</td>\n",
       "      <td>$AMD back to the 31&amp;#39;s</td>\n",
       "    </tr>\n",
       "    <tr>\n",
       "      <td>1039130</td>\n",
       "      <td>$AMZN Lagging other tech today.</td>\n",
       "      <td>2</td>\n",
       "      <td>2018-07-05 17:14:00+00:00</td>\n",
       "      <td>$AMZN</td>\n",
       "      <td>$AMZN Lagging other tech today.</td>\n",
       "    </tr>\n",
       "  </tbody>\n",
       "</table>\n",
       "<p>1039131 rows × 5 columns</p>\n",
       "</div>"
      ],
      "text/plain": [
       "                                           stocktwit_Tweet  Sentiment_score  \\\n",
       "0        $AMD going up but hesitating however chart is ...                3   \n",
       "1        @inforlong @MariaGascon Despite\\nChina trade w...                3   \n",
       "2                                               $AVGO WTF?                2   \n",
       "3        $PH\\n New Insider Filing On: \\n MULLER KLAUS P...                2   \n",
       "4        $FB if it bounces tommorrow do the right thing...                3   \n",
       "...                                                    ...              ...   \n",
       "1039126  $CLF https://twitter.com/hrdrckminer/status/10...                2   \n",
       "1039127                                           $AMD 🔥🔥🔥                3   \n",
       "1039128  $FB damn should of shorted 196 after hours to ...                0   \n",
       "1039129                          $AMD back to the 31&#39;s                0   \n",
       "1039130                    $AMZN Lagging other tech today.                2   \n",
       "\n",
       "                        timestamp ticker  \\\n",
       "0       2018-09-19 18:38:28+00:00   $AMD   \n",
       "1       2018-10-09 03:51:06+00:00   $CAT   \n",
       "2       2018-07-12 13:35:32+00:00  $AVGO   \n",
       "3       2018-07-19 03:32:50+00:00    $PH   \n",
       "4       2018-08-23 19:07:54+00:00    $FB   \n",
       "...                           ...    ...   \n",
       "1039126 2018-08-13 22:15:04+00:00   $CLF   \n",
       "1039127 2018-09-04 15:25:59+00:00   $AMD   \n",
       "1039128 2018-07-25 21:29:03+00:00    $FB   \n",
       "1039129 2018-09-28 16:19:55+00:00   $AMD   \n",
       "1039130 2018-07-05 17:14:00+00:00  $AMZN   \n",
       "\n",
       "                                                 cln_tweet  \n",
       "0        $AMD going up but hesitating however chart is ...  \n",
       "1        @inforlong @MariaGascon Despite\\nChina trade w...  \n",
       "2                                               $AVGO WTF?  \n",
       "3        $PH\\n New Insider Filing On: \\n MULLER KLAUS P...  \n",
       "4        $FB if it bounces tommorrow do the right thing...  \n",
       "...                                                    ...  \n",
       "1039126                                              $CLF   \n",
       "1039127                                                NaN  \n",
       "1039128  $FB damn should of shorted 196 after hours to ...  \n",
       "1039129                          $AMD back to the 31&#39;s  \n",
       "1039130                    $AMZN Lagging other tech today.  \n",
       "\n",
       "[1039131 rows x 5 columns]"
      ]
     },
     "execution_count": 27,
     "metadata": {},
     "output_type": "execute_result"
    }
   ],
   "source": [
    "tweet_json_data['cln_tweet'] = tweet_json_data['cln_tweet'].str.replace('http\\S*|www.\\S*','', case=False)\n",
    "tweet_json_data"
   ]
  },
  {
   "cell_type": "markdown",
   "metadata": {},
   "source": [
    "### Removing the @mentions count"
   ]
  },
  {
   "cell_type": "code",
   "execution_count": 29,
   "metadata": {
    "colab": {
     "base_uri": "https://localhost:8080/",
     "height": 204
    },
    "colab_type": "code",
    "executionInfo": {
     "elapsed": 3365,
     "status": "ok",
     "timestamp": 1576687149910,
     "user": {
      "displayName": "pramod raju",
      "photoUrl": "https://lh3.googleusercontent.com/a-/AAuE7mB_vvFC4nH3839bAa71YKbOge9FDqffM6z0Qcg7RA=s64",
      "userId": "03605267971282508924"
     },
     "user_tz": -330
    },
    "id": "aG-v8ERptgT_",
    "outputId": "f31f1785-dddf-4908-fd8d-319022b4c3fd"
   },
   "outputs": [
    {
     "data": {
      "text/html": [
       "<div>\n",
       "<style scoped>\n",
       "    .dataframe tbody tr th:only-of-type {\n",
       "        vertical-align: middle;\n",
       "    }\n",
       "\n",
       "    .dataframe tbody tr th {\n",
       "        vertical-align: top;\n",
       "    }\n",
       "\n",
       "    .dataframe thead th {\n",
       "        text-align: right;\n",
       "    }\n",
       "</style>\n",
       "<table border=\"1\" class=\"dataframe\">\n",
       "  <thead>\n",
       "    <tr style=\"text-align: right;\">\n",
       "      <th></th>\n",
       "      <th>stocktwit_Tweet</th>\n",
       "      <th>Sentiment_score</th>\n",
       "      <th>timestamp</th>\n",
       "      <th>ticker</th>\n",
       "      <th>cln_tweet</th>\n",
       "    </tr>\n",
       "  </thead>\n",
       "  <tbody>\n",
       "    <tr>\n",
       "      <td>0</td>\n",
       "      <td>$AMD going up but hesitating however chart is ...</td>\n",
       "      <td>3</td>\n",
       "      <td>2018-09-19 18:38:28+00:00</td>\n",
       "      <td>$AMD</td>\n",
       "      <td>$AMD going up but hesitating however chart is ...</td>\n",
       "    </tr>\n",
       "    <tr>\n",
       "      <td>1</td>\n",
       "      <td>@inforlong @MariaGascon Despite\\nChina trade w...</td>\n",
       "      <td>3</td>\n",
       "      <td>2018-10-09 03:51:06+00:00</td>\n",
       "      <td>$CAT</td>\n",
       "      <td>Despite\\nChina trade war $CAT held very well...</td>\n",
       "    </tr>\n",
       "    <tr>\n",
       "      <td>2</td>\n",
       "      <td>$AVGO WTF?</td>\n",
       "      <td>2</td>\n",
       "      <td>2018-07-12 13:35:32+00:00</td>\n",
       "      <td>$AVGO</td>\n",
       "      <td>$AVGO WTF?</td>\n",
       "    </tr>\n",
       "    <tr>\n",
       "      <td>3</td>\n",
       "      <td>$PH\\n New Insider Filing On: \\n MULLER KLAUS P...</td>\n",
       "      <td>2</td>\n",
       "      <td>2018-07-19 03:32:50+00:00</td>\n",
       "      <td>$PH</td>\n",
       "      <td>$PH\\n New Insider Filing On: \\n MULLER KLAUS P...</td>\n",
       "    </tr>\n",
       "    <tr>\n",
       "      <td>4</td>\n",
       "      <td>$FB if it bounces tommorrow do the right thing...</td>\n",
       "      <td>3</td>\n",
       "      <td>2018-08-23 19:07:54+00:00</td>\n",
       "      <td>$FB</td>\n",
       "      <td>$FB if it bounces tommorrow do the right thing...</td>\n",
       "    </tr>\n",
       "  </tbody>\n",
       "</table>\n",
       "</div>"
      ],
      "text/plain": [
       "                                     stocktwit_Tweet  Sentiment_score  \\\n",
       "0  $AMD going up but hesitating however chart is ...                3   \n",
       "1  @inforlong @MariaGascon Despite\\nChina trade w...                3   \n",
       "2                                         $AVGO WTF?                2   \n",
       "3  $PH\\n New Insider Filing On: \\n MULLER KLAUS P...                2   \n",
       "4  $FB if it bounces tommorrow do the right thing...                3   \n",
       "\n",
       "                  timestamp ticker  \\\n",
       "0 2018-09-19 18:38:28+00:00   $AMD   \n",
       "1 2018-10-09 03:51:06+00:00   $CAT   \n",
       "2 2018-07-12 13:35:32+00:00  $AVGO   \n",
       "3 2018-07-19 03:32:50+00:00    $PH   \n",
       "4 2018-08-23 19:07:54+00:00    $FB   \n",
       "\n",
       "                                           cln_tweet  \n",
       "0  $AMD going up but hesitating however chart is ...  \n",
       "1    Despite\\nChina trade war $CAT held very well...  \n",
       "2                                         $AVGO WTF?  \n",
       "3  $PH\\n New Insider Filing On: \\n MULLER KLAUS P...  \n",
       "4  $FB if it bounces tommorrow do the right thing...  "
      ]
     },
     "execution_count": 29,
     "metadata": {},
     "output_type": "execute_result"
    }
   ],
   "source": [
    "tweet_json_data['cln_tweet'] = tweet_json_data['cln_tweet'].str.replace(\"@[\\w]*\",\"\")\n",
    "\n",
    "tweet_json_data.head(5)"
   ]
  },
  {
   "cell_type": "code",
   "execution_count": 30,
   "metadata": {},
   "outputs": [
    {
     "data": {
      "text/plain": [
       "(1039131, 5)"
      ]
     },
     "execution_count": 30,
     "metadata": {},
     "output_type": "execute_result"
    }
   ],
   "source": [
    "tweet_json_data.shape"
   ]
  },
  {
   "cell_type": "markdown",
   "metadata": {},
   "source": [
    "## Empty tweets"
   ]
  },
  {
   "cell_type": "code",
   "execution_count": 33,
   "metadata": {},
   "outputs": [],
   "source": [
    "emptytweets1 = tweet_json_data[['stocktwit_Tweet','ticker']].apply(lambda row: (len(row['stocktwit_Tweet'])-len(row['ticker']) ==0), axis=1)\n",
    "\n",
    "\n",
    "emptytweets = tweet_json_data[emptytweets1]"
   ]
  },
  {
   "cell_type": "code",
   "execution_count": 34,
   "metadata": {},
   "outputs": [
    {
     "data": {
      "text/html": [
       "<div>\n",
       "<style scoped>\n",
       "    .dataframe tbody tr th:only-of-type {\n",
       "        vertical-align: middle;\n",
       "    }\n",
       "\n",
       "    .dataframe tbody tr th {\n",
       "        vertical-align: top;\n",
       "    }\n",
       "\n",
       "    .dataframe thead th {\n",
       "        text-align: right;\n",
       "    }\n",
       "</style>\n",
       "<table border=\"1\" class=\"dataframe\">\n",
       "  <thead>\n",
       "    <tr style=\"text-align: right;\">\n",
       "      <th></th>\n",
       "      <th>stocktwit_Tweet</th>\n",
       "      <th>Sentiment_score</th>\n",
       "      <th>timestamp</th>\n",
       "      <th>ticker</th>\n",
       "      <th>cln_tweet</th>\n",
       "    </tr>\n",
       "  </thead>\n",
       "  <tbody>\n",
       "    <tr>\n",
       "      <td>13</td>\n",
       "      <td>$AAPL</td>\n",
       "      <td>2</td>\n",
       "      <td>2018-10-06 21:38:04+00:00</td>\n",
       "      <td>$AAPL</td>\n",
       "      <td>$AAPL</td>\n",
       "    </tr>\n",
       "    <tr>\n",
       "      <td>14</td>\n",
       "      <td>$ANTM</td>\n",
       "      <td>2</td>\n",
       "      <td>2018-08-08 13:34:42+00:00</td>\n",
       "      <td>$ANTM</td>\n",
       "      <td>$ANTM</td>\n",
       "    </tr>\n",
       "    <tr>\n",
       "      <td>239</td>\n",
       "      <td>$NVDA</td>\n",
       "      <td>2</td>\n",
       "      <td>2018-08-22 14:57:24+00:00</td>\n",
       "      <td>$NVDA</td>\n",
       "      <td>$NVDA</td>\n",
       "    </tr>\n",
       "    <tr>\n",
       "      <td>260</td>\n",
       "      <td>$NFLX</td>\n",
       "      <td>2</td>\n",
       "      <td>2018-08-16 12:31:41+00:00</td>\n",
       "      <td>$NFLX</td>\n",
       "      <td>$NFLX</td>\n",
       "    </tr>\n",
       "    <tr>\n",
       "      <td>268</td>\n",
       "      <td>$AMD</td>\n",
       "      <td>3</td>\n",
       "      <td>2018-09-12 16:57:43+00:00</td>\n",
       "      <td>$AMD</td>\n",
       "      <td>$AMD</td>\n",
       "    </tr>\n",
       "  </tbody>\n",
       "</table>\n",
       "</div>"
      ],
      "text/plain": [
       "    stocktwit_Tweet  Sentiment_score                 timestamp ticker  \\\n",
       "13            $AAPL                2 2018-10-06 21:38:04+00:00  $AAPL   \n",
       "14            $ANTM                2 2018-08-08 13:34:42+00:00  $ANTM   \n",
       "239           $NVDA                2 2018-08-22 14:57:24+00:00  $NVDA   \n",
       "260           $NFLX                2 2018-08-16 12:31:41+00:00  $NFLX   \n",
       "268            $AMD                3 2018-09-12 16:57:43+00:00   $AMD   \n",
       "\n",
       "    cln_tweet  \n",
       "13      $AAPL  \n",
       "14      $ANTM  \n",
       "239     $NVDA  \n",
       "260     $NFLX  \n",
       "268      $AMD  "
      ]
     },
     "execution_count": 34,
     "metadata": {},
     "output_type": "execute_result"
    }
   ],
   "source": [
    "emptytweets.head()"
   ]
  },
  {
   "cell_type": "code",
   "execution_count": 35,
   "metadata": {},
   "outputs": [
    {
     "data": {
      "text/plain": [
       "(11370, 5)"
      ]
     },
     "execution_count": 35,
     "metadata": {},
     "output_type": "execute_result"
    }
   ],
   "source": [
    "emptytweets.shape"
   ]
  },
  {
   "cell_type": "markdown",
   "metadata": {},
   "source": [
    "### Removing empty tweets"
   ]
  },
  {
   "cell_type": "code",
   "execution_count": 39,
   "metadata": {},
   "outputs": [],
   "source": [
    "tweet_json_data=tweet_json_data[-emptytweets1]"
   ]
  },
  {
   "cell_type": "code",
   "execution_count": 40,
   "metadata": {},
   "outputs": [
    {
     "data": {
      "text/html": [
       "<div>\n",
       "<style scoped>\n",
       "    .dataframe tbody tr th:only-of-type {\n",
       "        vertical-align: middle;\n",
       "    }\n",
       "\n",
       "    .dataframe tbody tr th {\n",
       "        vertical-align: top;\n",
       "    }\n",
       "\n",
       "    .dataframe thead th {\n",
       "        text-align: right;\n",
       "    }\n",
       "</style>\n",
       "<table border=\"1\" class=\"dataframe\">\n",
       "  <thead>\n",
       "    <tr style=\"text-align: right;\">\n",
       "      <th></th>\n",
       "      <th>stocktwit_Tweet</th>\n",
       "      <th>Sentiment_score</th>\n",
       "      <th>timestamp</th>\n",
       "      <th>ticker</th>\n",
       "      <th>cln_tweet</th>\n",
       "    </tr>\n",
       "  </thead>\n",
       "  <tbody>\n",
       "    <tr>\n",
       "      <td>0</td>\n",
       "      <td>$AMD going up but hesitating however chart is ...</td>\n",
       "      <td>3</td>\n",
       "      <td>2018-09-19 18:38:28+00:00</td>\n",
       "      <td>$AMD</td>\n",
       "      <td>$AMD going up but hesitating however chart is ...</td>\n",
       "    </tr>\n",
       "    <tr>\n",
       "      <td>1</td>\n",
       "      <td>@inforlong @MariaGascon Despite\\nChina trade w...</td>\n",
       "      <td>3</td>\n",
       "      <td>2018-10-09 03:51:06+00:00</td>\n",
       "      <td>$CAT</td>\n",
       "      <td>Despite\\nChina trade war $CAT held very well...</td>\n",
       "    </tr>\n",
       "    <tr>\n",
       "      <td>2</td>\n",
       "      <td>$AVGO WTF?</td>\n",
       "      <td>2</td>\n",
       "      <td>2018-07-12 13:35:32+00:00</td>\n",
       "      <td>$AVGO</td>\n",
       "      <td>$AVGO WTF?</td>\n",
       "    </tr>\n",
       "    <tr>\n",
       "      <td>3</td>\n",
       "      <td>$PH\\n New Insider Filing On: \\n MULLER KLAUS P...</td>\n",
       "      <td>2</td>\n",
       "      <td>2018-07-19 03:32:50+00:00</td>\n",
       "      <td>$PH</td>\n",
       "      <td>$PH\\n New Insider Filing On: \\n MULLER KLAUS P...</td>\n",
       "    </tr>\n",
       "    <tr>\n",
       "      <td>4</td>\n",
       "      <td>$FB if it bounces tommorrow do the right thing...</td>\n",
       "      <td>3</td>\n",
       "      <td>2018-08-23 19:07:54+00:00</td>\n",
       "      <td>$FB</td>\n",
       "      <td>$FB if it bounces tommorrow do the right thing...</td>\n",
       "    </tr>\n",
       "  </tbody>\n",
       "</table>\n",
       "</div>"
      ],
      "text/plain": [
       "                                     stocktwit_Tweet  Sentiment_score  \\\n",
       "0  $AMD going up but hesitating however chart is ...                3   \n",
       "1  @inforlong @MariaGascon Despite\\nChina trade w...                3   \n",
       "2                                         $AVGO WTF?                2   \n",
       "3  $PH\\n New Insider Filing On: \\n MULLER KLAUS P...                2   \n",
       "4  $FB if it bounces tommorrow do the right thing...                3   \n",
       "\n",
       "                  timestamp ticker  \\\n",
       "0 2018-09-19 18:38:28+00:00   $AMD   \n",
       "1 2018-10-09 03:51:06+00:00   $CAT   \n",
       "2 2018-07-12 13:35:32+00:00  $AVGO   \n",
       "3 2018-07-19 03:32:50+00:00    $PH   \n",
       "4 2018-08-23 19:07:54+00:00    $FB   \n",
       "\n",
       "                                           cln_tweet  \n",
       "0  $AMD going up but hesitating however chart is ...  \n",
       "1    Despite\\nChina trade war $CAT held very well...  \n",
       "2                                         $AVGO WTF?  \n",
       "3  $PH\\n New Insider Filing On: \\n MULLER KLAUS P...  \n",
       "4  $FB if it bounces tommorrow do the right thing...  "
      ]
     },
     "execution_count": 40,
     "metadata": {},
     "output_type": "execute_result"
    }
   ],
   "source": [
    "tweet_json_data.head()"
   ]
  },
  {
   "cell_type": "code",
   "execution_count": 41,
   "metadata": {},
   "outputs": [
    {
     "data": {
      "text/plain": [
       "(1027761, 5)"
      ]
     },
     "execution_count": 41,
     "metadata": {},
     "output_type": "execute_result"
    }
   ],
   "source": [
    "tweet_json_data.shape"
   ]
  },
  {
   "cell_type": "markdown",
   "metadata": {
    "colab_type": "text",
    "id": "xibeaBrvz5kx"
   },
   "source": [
    "### Removing  Numbers,Special Characters & Hashtags"
   ]
  },
  {
   "cell_type": "code",
   "execution_count": 44,
   "metadata": {},
   "outputs": [],
   "source": [
    "tweet_json_data['cln_tweet']=tweet_json_data['cln_tweet'].str.replace('\\$[\\w]*','')"
   ]
  },
  {
   "cell_type": "code",
   "execution_count": 45,
   "metadata": {
    "colab": {
     "base_uri": "https://localhost:8080/",
     "height": 297
    },
    "colab_type": "code",
    "executionInfo": {
     "elapsed": 5512,
     "status": "ok",
     "timestamp": 1576687232922,
     "user": {
      "displayName": "pramod raju",
      "photoUrl": "https://lh3.googleusercontent.com/a-/AAuE7mB_vvFC4nH3839bAa71YKbOge9FDqffM6z0Qcg7RA=s64",
      "userId": "03605267971282508924"
     },
     "user_tz": -330
    },
    "id": "2ASUDubjtwGZ",
    "outputId": "44899ef0-b699-4103-bc8a-0a840bcee998"
   },
   "outputs": [
    {
     "data": {
      "text/html": [
       "<div>\n",
       "<style scoped>\n",
       "    .dataframe tbody tr th:only-of-type {\n",
       "        vertical-align: middle;\n",
       "    }\n",
       "\n",
       "    .dataframe tbody tr th {\n",
       "        vertical-align: top;\n",
       "    }\n",
       "\n",
       "    .dataframe thead th {\n",
       "        text-align: right;\n",
       "    }\n",
       "</style>\n",
       "<table border=\"1\" class=\"dataframe\">\n",
       "  <thead>\n",
       "    <tr style=\"text-align: right;\">\n",
       "      <th></th>\n",
       "      <th>stocktwit_Tweet</th>\n",
       "      <th>Sentiment_score</th>\n",
       "      <th>timestamp</th>\n",
       "      <th>ticker</th>\n",
       "      <th>cln_tweet</th>\n",
       "    </tr>\n",
       "  </thead>\n",
       "  <tbody>\n",
       "    <tr>\n",
       "      <td>0</td>\n",
       "      <td>$AMD going up but hesitating however chart is ...</td>\n",
       "      <td>3</td>\n",
       "      <td>2018-09-19 18:38:28+00:00</td>\n",
       "      <td>$AMD</td>\n",
       "      <td>going up but hesitating however chart is very...</td>\n",
       "    </tr>\n",
       "    <tr>\n",
       "      <td>1</td>\n",
       "      <td>@inforlong @MariaGascon Despite\\nChina trade w...</td>\n",
       "      <td>3</td>\n",
       "      <td>2018-10-09 03:51:06+00:00</td>\n",
       "      <td>$CAT</td>\n",
       "      <td>Despite China trade war  held very well  thu...</td>\n",
       "    </tr>\n",
       "    <tr>\n",
       "      <td>2</td>\n",
       "      <td>$AVGO WTF?</td>\n",
       "      <td>2</td>\n",
       "      <td>2018-07-12 13:35:32+00:00</td>\n",
       "      <td>$AVGO</td>\n",
       "      <td>WTF</td>\n",
       "    </tr>\n",
       "    <tr>\n",
       "      <td>3</td>\n",
       "      <td>$PH\\n New Insider Filing On: \\n MULLER KLAUS P...</td>\n",
       "      <td>2</td>\n",
       "      <td>2018-07-19 03:32:50+00:00</td>\n",
       "      <td>$PH</td>\n",
       "      <td>New Insider Filing On    MULLER KLAUS PETER ...</td>\n",
       "    </tr>\n",
       "    <tr>\n",
       "      <td>4</td>\n",
       "      <td>$FB if it bounces tommorrow do the right thing...</td>\n",
       "      <td>3</td>\n",
       "      <td>2018-08-23 19:07:54+00:00</td>\n",
       "      <td>$FB</td>\n",
       "      <td>if it bounces tommorrow do the right thing an...</td>\n",
       "    </tr>\n",
       "    <tr>\n",
       "      <td>5</td>\n",
       "      <td>$FB as usual......RED  \\nevery day.</td>\n",
       "      <td>0</td>\n",
       "      <td>2018-08-02 11:40:49+00:00</td>\n",
       "      <td>$FB</td>\n",
       "      <td>as usual      RED   every day</td>\n",
       "    </tr>\n",
       "    <tr>\n",
       "      <td>6</td>\n",
       "      <td>$AET UnitedHealth Group Goes Ex-Dividend Today...</td>\n",
       "      <td>2</td>\n",
       "      <td>2018-09-07 15:01:06+00:00</td>\n",
       "      <td>$AET</td>\n",
       "      <td>UnitedHealth Group Goes Ex Dividend Today</td>\n",
       "    </tr>\n",
       "    <tr>\n",
       "      <td>7</td>\n",
       "      <td>$NOC let&amp;#39;s see when we can hit 310</td>\n",
       "      <td>4</td>\n",
       "      <td>2018-09-12 20:48:40+00:00</td>\n",
       "      <td>$NOC</td>\n",
       "      <td>let     s see when we can hit</td>\n",
       "    </tr>\n",
       "  </tbody>\n",
       "</table>\n",
       "</div>"
      ],
      "text/plain": [
       "                                     stocktwit_Tweet  Sentiment_score  \\\n",
       "0  $AMD going up but hesitating however chart is ...                3   \n",
       "1  @inforlong @MariaGascon Despite\\nChina trade w...                3   \n",
       "2                                         $AVGO WTF?                2   \n",
       "3  $PH\\n New Insider Filing On: \\n MULLER KLAUS P...                2   \n",
       "4  $FB if it bounces tommorrow do the right thing...                3   \n",
       "5                $FB as usual......RED  \\nevery day.                0   \n",
       "6  $AET UnitedHealth Group Goes Ex-Dividend Today...                2   \n",
       "7             $NOC let&#39;s see when we can hit 310                4   \n",
       "\n",
       "                  timestamp ticker  \\\n",
       "0 2018-09-19 18:38:28+00:00   $AMD   \n",
       "1 2018-10-09 03:51:06+00:00   $CAT   \n",
       "2 2018-07-12 13:35:32+00:00  $AVGO   \n",
       "3 2018-07-19 03:32:50+00:00    $PH   \n",
       "4 2018-08-23 19:07:54+00:00    $FB   \n",
       "5 2018-08-02 11:40:49+00:00    $FB   \n",
       "6 2018-09-07 15:01:06+00:00   $AET   \n",
       "7 2018-09-12 20:48:40+00:00   $NOC   \n",
       "\n",
       "                                           cln_tweet  \n",
       "0   going up but hesitating however chart is very...  \n",
       "1    Despite China trade war  held very well  thu...  \n",
       "2                                               WTF   \n",
       "3    New Insider Filing On    MULLER KLAUS PETER ...  \n",
       "4   if it bounces tommorrow do the right thing an...  \n",
       "5                     as usual      RED   every day   \n",
       "6         UnitedHealth Group Goes Ex Dividend Today   \n",
       "7                  let     s see when we can hit      "
      ]
     },
     "execution_count": 45,
     "metadata": {},
     "output_type": "execute_result"
    }
   ],
   "source": [
    "tweet_json_data['cln_tweet'] = tweet_json_data['cln_tweet'].str.replace(\"[^a-zA-Z]\", \" \") \n",
    "tweet_json_data.head(8)"
   ]
  },
  {
   "cell_type": "markdown",
   "metadata": {},
   "source": [
    "### Removing the Dollar sign and converting TICKER column to uppercase"
   ]
  },
  {
   "cell_type": "code",
   "execution_count": 48,
   "metadata": {},
   "outputs": [],
   "source": [
    "tweet_json_data['ticker']=tweet_json_data['ticker'].str.replace('$','')"
   ]
  },
  {
   "cell_type": "code",
   "execution_count": 49,
   "metadata": {},
   "outputs": [],
   "source": [
    "tweet_json_data['ticker']=tweet_json_data['ticker'].str.upper()"
   ]
  },
  {
   "cell_type": "code",
   "execution_count": 50,
   "metadata": {
    "scrolled": true
   },
   "outputs": [
    {
     "data": {
      "text/html": [
       "<div>\n",
       "<style scoped>\n",
       "    .dataframe tbody tr th:only-of-type {\n",
       "        vertical-align: middle;\n",
       "    }\n",
       "\n",
       "    .dataframe tbody tr th {\n",
       "        vertical-align: top;\n",
       "    }\n",
       "\n",
       "    .dataframe thead th {\n",
       "        text-align: right;\n",
       "    }\n",
       "</style>\n",
       "<table border=\"1\" class=\"dataframe\">\n",
       "  <thead>\n",
       "    <tr style=\"text-align: right;\">\n",
       "      <th></th>\n",
       "      <th>stocktwit_Tweet</th>\n",
       "      <th>Sentiment_score</th>\n",
       "      <th>timestamp</th>\n",
       "      <th>ticker</th>\n",
       "      <th>cln_tweet</th>\n",
       "    </tr>\n",
       "  </thead>\n",
       "  <tbody>\n",
       "    <tr>\n",
       "      <td>0</td>\n",
       "      <td>$AMD going up but hesitating however chart is ...</td>\n",
       "      <td>3</td>\n",
       "      <td>2018-09-19 18:38:28+00:00</td>\n",
       "      <td>AMD</td>\n",
       "      <td>going up but hesitating however chart is very...</td>\n",
       "    </tr>\n",
       "    <tr>\n",
       "      <td>1</td>\n",
       "      <td>@inforlong @MariaGascon Despite\\nChina trade w...</td>\n",
       "      <td>3</td>\n",
       "      <td>2018-10-09 03:51:06+00:00</td>\n",
       "      <td>CAT</td>\n",
       "      <td>Despite China trade war  held very well  thu...</td>\n",
       "    </tr>\n",
       "    <tr>\n",
       "      <td>2</td>\n",
       "      <td>$AVGO WTF?</td>\n",
       "      <td>2</td>\n",
       "      <td>2018-07-12 13:35:32+00:00</td>\n",
       "      <td>AVGO</td>\n",
       "      <td>WTF</td>\n",
       "    </tr>\n",
       "    <tr>\n",
       "      <td>3</td>\n",
       "      <td>$PH\\n New Insider Filing On: \\n MULLER KLAUS P...</td>\n",
       "      <td>2</td>\n",
       "      <td>2018-07-19 03:32:50+00:00</td>\n",
       "      <td>PH</td>\n",
       "      <td>New Insider Filing On    MULLER KLAUS PETER ...</td>\n",
       "    </tr>\n",
       "    <tr>\n",
       "      <td>4</td>\n",
       "      <td>$FB if it bounces tommorrow do the right thing...</td>\n",
       "      <td>3</td>\n",
       "      <td>2018-08-23 19:07:54+00:00</td>\n",
       "      <td>FB</td>\n",
       "      <td>if it bounces tommorrow do the right thing an...</td>\n",
       "    </tr>\n",
       "  </tbody>\n",
       "</table>\n",
       "</div>"
      ],
      "text/plain": [
       "                                     stocktwit_Tweet  Sentiment_score  \\\n",
       "0  $AMD going up but hesitating however chart is ...                3   \n",
       "1  @inforlong @MariaGascon Despite\\nChina trade w...                3   \n",
       "2                                         $AVGO WTF?                2   \n",
       "3  $PH\\n New Insider Filing On: \\n MULLER KLAUS P...                2   \n",
       "4  $FB if it bounces tommorrow do the right thing...                3   \n",
       "\n",
       "                  timestamp ticker  \\\n",
       "0 2018-09-19 18:38:28+00:00    AMD   \n",
       "1 2018-10-09 03:51:06+00:00    CAT   \n",
       "2 2018-07-12 13:35:32+00:00   AVGO   \n",
       "3 2018-07-19 03:32:50+00:00     PH   \n",
       "4 2018-08-23 19:07:54+00:00     FB   \n",
       "\n",
       "                                           cln_tweet  \n",
       "0   going up but hesitating however chart is very...  \n",
       "1    Despite China trade war  held very well  thu...  \n",
       "2                                               WTF   \n",
       "3    New Insider Filing On    MULLER KLAUS PETER ...  \n",
       "4   if it bounces tommorrow do the right thing an...  "
      ]
     },
     "execution_count": 50,
     "metadata": {},
     "output_type": "execute_result"
    }
   ],
   "source": [
    "tweet_json_data.head()"
   ]
  },
  {
   "cell_type": "markdown",
   "metadata": {},
   "source": [
    "### Removing repeating words"
   ]
  },
  {
   "cell_type": "code",
   "execution_count": 55,
   "metadata": {},
   "outputs": [],
   "source": [
    "tweet_json_data['cln_tweet'] = tweet_json_data['cln_tweet'].apply(lambda x : re.sub(r'(.)\\1{1,}', r'\\1\\1', x) )"
   ]
  },
  {
   "cell_type": "markdown",
   "metadata": {},
   "source": [
    "### Expanding contractions"
   ]
  },
  {
   "cell_type": "code",
   "execution_count": 59,
   "metadata": {},
   "outputs": [],
   "source": [
    "CONTRACTION_MAP = {\n",
    "\"ain't\": \"is not\",\n",
    "\"aren't\": \"are not\",\n",
    "\"can't\": \"cannot\",\n",
    "\"can't've\": \"cannot have\",\n",
    "\"'cause\": \"because\",\n",
    "\"could've\": \"could have\",\n",
    "\"couldn't\": \"could not\",\n",
    "\"couldn't've\": \"could not have\",\n",
    "\"didn't\": \"did not\",\n",
    "\"doesn't\": \"does not\",\n",
    "\"don't\": \"do not\",\n",
    "\"hadn't\": \"had not\",\n",
    "\"hadn't've\": \"had not have\",\n",
    "\"hasn't\": \"has not\",\n",
    "\"haven't\": \"have not\",\n",
    "\"he'd\": \"he would\",\n",
    "\"he'd've\": \"he would have\",\n",
    "\"he'll\": \"he will\",\n",
    "\"he'll've\": \"he he will have\",\n",
    "\"he's\": \"he is\",\n",
    "\"how'd\": \"how did\",\n",
    "\"how'd'y\": \"how do you\",\n",
    "\"how'll\": \"how will\",\n",
    "\"how's\": \"how is\",\n",
    "\"I'd\": \"I would\",\n",
    "\"I'd've\": \"I would have\",\n",
    "\"I'll\": \"I will\",\n",
    "\"I'll've\": \"I will have\",\n",
    "\"I'm\": \"I am\",\n",
    "\"I've\": \"I have\",\n",
    "\"i'd\": \"i would\",\n",
    "\"i'd've\": \"i would have\",\n",
    "\"i'll\": \"i will\",\n",
    "\"i'll've\": \"i will have\",\n",
    "\"i'm\": \"i am\",\n",
    "\"i've\": \"i have\",\n",
    "\"isn't\": \"is not\",\n",
    "\"it'd\": \"it would\",\n",
    "\"it'd've\": \"it would have\",\n",
    "\"it'll\": \"it will\",\n",
    "\"it'll've\": \"it will have\",\n",
    "\"it's\": \"it is\",\n",
    "\"let's\": \"let us\",\n",
    "\"ma'am\": \"madam\",\n",
    "\"mayn't\": \"may not\",\n",
    "\"might've\": \"might have\",\n",
    "\"mightn't\": \"might not\",\n",
    "\"mightn't've\": \"might not have\",\n",
    "\"must've\": \"must have\",\n",
    "\"mustn't\": \"must not\",\n",
    "\"mustn't've\": \"must not have\",\n",
    "\"needn't\": \"need not\",\n",
    "\"needn't've\": \"need not have\",\n",
    "\"o'clock\": \"of the clock\",\n",
    "\"oughtn't\": \"ought not\",\n",
    "\"oughtn't've\": \"ought not have\",\n",
    "\"shan't\": \"shall not\",\n",
    "\"sha'n't\": \"shall not\",\n",
    "\"shan't've\": \"shall not have\",\n",
    "\"she'd\": \"she would\",\n",
    "\"she'd've\": \"she would have\",\n",
    "\"she'll\": \"she will\",\n",
    "\"she'll've\": \"she will have\",\n",
    "\"she's\": \"she is\",\n",
    "\"should've\": \"should have\",\n",
    "\"shouldn't\": \"should not\",\n",
    "\"shouldn't've\": \"should not have\",\n",
    "\"so've\": \"so have\",\n",
    "\"so's\": \"so as\",\n",
    "\"that'd\": \"that would\",\n",
    "\"that'd've\": \"that would have\",\n",
    "\"that's\": \"that is\",\n",
    "\"there'd\": \"there would\",\n",
    "\"there'd've\": \"there would have\",\n",
    "\"there's\": \"there is\",\n",
    "\"they'd\": \"they would\",\n",
    "\"they'd've\": \"they would have\",\n",
    "\"they'll\": \"they will\",\n",
    "\"they'll've\": \"they will have\",\n",
    "\"they're\": \"they are\",\n",
    "\"they've\": \"they have\",\n",
    "\"to've\": \"to have\",\n",
    "\"wasn't\": \"was not\",\n",
    "\"we'd\": \"we would\",\n",
    "\"we'd've\": \"we would have\",\n",
    "\"we'll\": \"we will\",\n",
    "\"we'll've\": \"we will have\",\n",
    "\"we're\": \"we are\",\n",
    "\"we've\": \"we have\",\n",
    "\"weren't\": \"were not\",\n",
    "\"what'll\": \"what will\",\n",
    "\"what'll've\": \"what will have\",\n",
    "\"what're\": \"what are\",\n",
    "\"what's\": \"what is\",\n",
    "\"what've\": \"what have\",\n",
    "\"when's\": \"when is\",\n",
    "\"when've\": \"when have\",\n",
    "\"where'd\": \"where did\",\n",
    "\"where's\": \"where is\",\n",
    "\"where've\": \"where have\",\n",
    "\"who'll\": \"who will\",\n",
    "\"who'll've\": \"who will have\",\n",
    "\"who's\": \"who is\",\n",
    "\"who've\": \"who have\",\n",
    "\"why's\": \"why is\",\n",
    "\"why've\": \"why have\",\n",
    "\"will've\": \"will have\",\n",
    "\"won't\": \"will not\",\n",
    "\"won't've\": \"will not have\",\n",
    "\"would've\": \"would have\",\n",
    "\"wouldn't\": \"would not\",\n",
    "\"wouldn't've\": \"would not have\",\n",
    "\"y'all\": \"you all\",\n",
    "\"y'all'd\": \"you all would\",\n",
    "\"y'all'd've\": \"you all would have\",\n",
    "\"y'all're\": \"you all are\",\n",
    "\"y'all've\": \"you all have\",\n",
    "\"you'd\": \"you would\",\n",
    "\"you'd've\": \"you would have\",\n",
    "\"you'll\": \"you will\",\n",
    "\"you'll've\": \"you will have\",\n",
    "\"you're\": \"you are\",\n",
    "\"you've\": \"you have\"\n",
    "}"
   ]
  },
  {
   "cell_type": "code",
   "execution_count": 60,
   "metadata": {},
   "outputs": [],
   "source": [
    "def expand_contractions(text, contraction_mapping=CONTRACTION_MAP):\n",
    "    \n",
    "    contractions_pattern = re.compile('({})'.format('|'.join(contraction_mapping.keys())), \n",
    "                                      flags=re.IGNORECASE|re.DOTALL)\n",
    "    def expand_match(contraction):\n",
    "        match = contraction.group(0)\n",
    "        first_char = match[0]\n",
    "        expanded_contraction = contraction_mapping.get(match)\\\n",
    "                                if contraction_mapping.get(match)\\\n",
    "                                else contraction_mapping.get(match.lower())                       \n",
    "        expanded_contraction = first_char+expanded_contraction[1:]\n",
    "        return expanded_contraction\n",
    "        \n",
    "    expanded_text = contractions_pattern.sub(expand_match, text)\n",
    "    expanded_text = re.sub(\"'\", \"\", expanded_text)\n",
    "    return expanded_text"
   ]
  },
  {
   "cell_type": "code",
   "execution_count": 61,
   "metadata": {},
   "outputs": [
    {
     "data": {
      "text/html": [
       "<div>\n",
       "<style scoped>\n",
       "    .dataframe tbody tr th:only-of-type {\n",
       "        vertical-align: middle;\n",
       "    }\n",
       "\n",
       "    .dataframe tbody tr th {\n",
       "        vertical-align: top;\n",
       "    }\n",
       "\n",
       "    .dataframe thead th {\n",
       "        text-align: right;\n",
       "    }\n",
       "</style>\n",
       "<table border=\"1\" class=\"dataframe\">\n",
       "  <thead>\n",
       "    <tr style=\"text-align: right;\">\n",
       "      <th></th>\n",
       "      <th>stocktwit_Tweet</th>\n",
       "      <th>Sentiment_score</th>\n",
       "      <th>timestamp</th>\n",
       "      <th>ticker</th>\n",
       "      <th>cln_tweet</th>\n",
       "    </tr>\n",
       "  </thead>\n",
       "  <tbody>\n",
       "    <tr>\n",
       "      <td>0</td>\n",
       "      <td>$AMD going up but hesitating however chart is ...</td>\n",
       "      <td>3</td>\n",
       "      <td>2018-09-19 18:38:28+00:00</td>\n",
       "      <td>AMD</td>\n",
       "      <td>going up but hesitating however chart is very...</td>\n",
       "    </tr>\n",
       "    <tr>\n",
       "      <td>1</td>\n",
       "      <td>@inforlong @MariaGascon Despite\\nChina trade w...</td>\n",
       "      <td>3</td>\n",
       "      <td>2018-10-09 03:51:06+00:00</td>\n",
       "      <td>CAT</td>\n",
       "      <td>Despite China trade war  held very well  thu...</td>\n",
       "    </tr>\n",
       "    <tr>\n",
       "      <td>2</td>\n",
       "      <td>$AVGO WTF?</td>\n",
       "      <td>2</td>\n",
       "      <td>2018-07-12 13:35:32+00:00</td>\n",
       "      <td>AVGO</td>\n",
       "      <td>WTF</td>\n",
       "    </tr>\n",
       "    <tr>\n",
       "      <td>3</td>\n",
       "      <td>$PH\\n New Insider Filing On: \\n MULLER KLAUS P...</td>\n",
       "      <td>2</td>\n",
       "      <td>2018-07-19 03:32:50+00:00</td>\n",
       "      <td>PH</td>\n",
       "      <td>New Insider Filing On  MULLER KLAUS PETER Tr...</td>\n",
       "    </tr>\n",
       "    <tr>\n",
       "      <td>4</td>\n",
       "      <td>$FB if it bounces tommorrow do the right thing...</td>\n",
       "      <td>3</td>\n",
       "      <td>2018-08-23 19:07:54+00:00</td>\n",
       "      <td>FB</td>\n",
       "      <td>if it bounces tommorrow do the right thing an...</td>\n",
       "    </tr>\n",
       "  </tbody>\n",
       "</table>\n",
       "</div>"
      ],
      "text/plain": [
       "                                     stocktwit_Tweet  Sentiment_score  \\\n",
       "0  $AMD going up but hesitating however chart is ...                3   \n",
       "1  @inforlong @MariaGascon Despite\\nChina trade w...                3   \n",
       "2                                         $AVGO WTF?                2   \n",
       "3  $PH\\n New Insider Filing On: \\n MULLER KLAUS P...                2   \n",
       "4  $FB if it bounces tommorrow do the right thing...                3   \n",
       "\n",
       "                  timestamp ticker  \\\n",
       "0 2018-09-19 18:38:28+00:00    AMD   \n",
       "1 2018-10-09 03:51:06+00:00    CAT   \n",
       "2 2018-07-12 13:35:32+00:00   AVGO   \n",
       "3 2018-07-19 03:32:50+00:00     PH   \n",
       "4 2018-08-23 19:07:54+00:00     FB   \n",
       "\n",
       "                                           cln_tweet  \n",
       "0   going up but hesitating however chart is very...  \n",
       "1    Despite China trade war  held very well  thu...  \n",
       "2                                               WTF   \n",
       "3    New Insider Filing On  MULLER KLAUS PETER Tr...  \n",
       "4   if it bounces tommorrow do the right thing an...  "
      ]
     },
     "execution_count": 61,
     "metadata": {},
     "output_type": "execute_result"
    }
   ],
   "source": [
    "tweet_json_data['cln_tweet'] = tweet_json_data['cln_tweet'].apply(expand_contractions)\n",
    "tweet_json_data.head()"
   ]
  },
  {
   "cell_type": "markdown",
   "metadata": {},
   "source": [
    "### Converting to lower case"
   ]
  },
  {
   "cell_type": "code",
   "execution_count": 63,
   "metadata": {},
   "outputs": [
    {
     "data": {
      "text/html": [
       "<div>\n",
       "<style scoped>\n",
       "    .dataframe tbody tr th:only-of-type {\n",
       "        vertical-align: middle;\n",
       "    }\n",
       "\n",
       "    .dataframe tbody tr th {\n",
       "        vertical-align: top;\n",
       "    }\n",
       "\n",
       "    .dataframe thead th {\n",
       "        text-align: right;\n",
       "    }\n",
       "</style>\n",
       "<table border=\"1\" class=\"dataframe\">\n",
       "  <thead>\n",
       "    <tr style=\"text-align: right;\">\n",
       "      <th></th>\n",
       "      <th>stocktwit_Tweet</th>\n",
       "      <th>Sentiment_score</th>\n",
       "      <th>timestamp</th>\n",
       "      <th>ticker</th>\n",
       "      <th>cln_tweet</th>\n",
       "    </tr>\n",
       "  </thead>\n",
       "  <tbody>\n",
       "    <tr>\n",
       "      <td>0</td>\n",
       "      <td>$AMD going up but hesitating however chart is ...</td>\n",
       "      <td>3</td>\n",
       "      <td>2018-09-19 18:38:28+00:00</td>\n",
       "      <td>AMD</td>\n",
       "      <td>going up but hesitating however chart is very...</td>\n",
       "    </tr>\n",
       "    <tr>\n",
       "      <td>1</td>\n",
       "      <td>@inforlong @MariaGascon Despite\\nChina trade w...</td>\n",
       "      <td>3</td>\n",
       "      <td>2018-10-09 03:51:06+00:00</td>\n",
       "      <td>CAT</td>\n",
       "      <td>despite china trade war  held very well  thu...</td>\n",
       "    </tr>\n",
       "    <tr>\n",
       "      <td>2</td>\n",
       "      <td>$AVGO WTF?</td>\n",
       "      <td>2</td>\n",
       "      <td>2018-07-12 13:35:32+00:00</td>\n",
       "      <td>AVGO</td>\n",
       "      <td>wtf</td>\n",
       "    </tr>\n",
       "    <tr>\n",
       "      <td>3</td>\n",
       "      <td>$PH\\n New Insider Filing On: \\n MULLER KLAUS P...</td>\n",
       "      <td>2</td>\n",
       "      <td>2018-07-19 03:32:50+00:00</td>\n",
       "      <td>PH</td>\n",
       "      <td>new insider filing on  muller klaus peter tr...</td>\n",
       "    </tr>\n",
       "    <tr>\n",
       "      <td>4</td>\n",
       "      <td>$FB if it bounces tommorrow do the right thing...</td>\n",
       "      <td>3</td>\n",
       "      <td>2018-08-23 19:07:54+00:00</td>\n",
       "      <td>FB</td>\n",
       "      <td>if it bounces tommorrow do the right thing an...</td>\n",
       "    </tr>\n",
       "  </tbody>\n",
       "</table>\n",
       "</div>"
      ],
      "text/plain": [
       "                                     stocktwit_Tweet  Sentiment_score  \\\n",
       "0  $AMD going up but hesitating however chart is ...                3   \n",
       "1  @inforlong @MariaGascon Despite\\nChina trade w...                3   \n",
       "2                                         $AVGO WTF?                2   \n",
       "3  $PH\\n New Insider Filing On: \\n MULLER KLAUS P...                2   \n",
       "4  $FB if it bounces tommorrow do the right thing...                3   \n",
       "\n",
       "                  timestamp ticker  \\\n",
       "0 2018-09-19 18:38:28+00:00    AMD   \n",
       "1 2018-10-09 03:51:06+00:00    CAT   \n",
       "2 2018-07-12 13:35:32+00:00   AVGO   \n",
       "3 2018-07-19 03:32:50+00:00     PH   \n",
       "4 2018-08-23 19:07:54+00:00     FB   \n",
       "\n",
       "                                           cln_tweet  \n",
       "0   going up but hesitating however chart is very...  \n",
       "1    despite china trade war  held very well  thu...  \n",
       "2                                               wtf   \n",
       "3    new insider filing on  muller klaus peter tr...  \n",
       "4   if it bounces tommorrow do the right thing an...  "
      ]
     },
     "execution_count": 63,
     "metadata": {},
     "output_type": "execute_result"
    }
   ],
   "source": [
    "tweet_json_data['cln_tweet']=tweet_json_data['cln_tweet'].str.lower()\n",
    "tweet_json_data.head()"
   ]
  },
  {
   "cell_type": "markdown",
   "metadata": {},
   "source": [
    "### Time  removing from Timestamp"
   ]
  },
  {
   "cell_type": "code",
   "execution_count": 66,
   "metadata": {},
   "outputs": [],
   "source": [
    "tweet_json_data['timestamp'] = tweet_json_data['timestamp'].astype('str')"
   ]
  },
  {
   "cell_type": "code",
   "execution_count": 67,
   "metadata": {},
   "outputs": [
    {
     "data": {
      "text/html": [
       "<div>\n",
       "<style scoped>\n",
       "    .dataframe tbody tr th:only-of-type {\n",
       "        vertical-align: middle;\n",
       "    }\n",
       "\n",
       "    .dataframe tbody tr th {\n",
       "        vertical-align: top;\n",
       "    }\n",
       "\n",
       "    .dataframe thead th {\n",
       "        text-align: right;\n",
       "    }\n",
       "</style>\n",
       "<table border=\"1\" class=\"dataframe\">\n",
       "  <thead>\n",
       "    <tr style=\"text-align: right;\">\n",
       "      <th></th>\n",
       "      <th>stocktwit_Tweet</th>\n",
       "      <th>Sentiment_score</th>\n",
       "      <th>timestamp</th>\n",
       "      <th>ticker</th>\n",
       "      <th>cln_tweet</th>\n",
       "    </tr>\n",
       "  </thead>\n",
       "  <tbody>\n",
       "    <tr>\n",
       "      <td>0</td>\n",
       "      <td>$AMD going up but hesitating however chart is ...</td>\n",
       "      <td>3</td>\n",
       "      <td>2018-09-19 18:38:28+00:00</td>\n",
       "      <td>AMD</td>\n",
       "      <td>going up but hesitating however chart is very...</td>\n",
       "    </tr>\n",
       "    <tr>\n",
       "      <td>1</td>\n",
       "      <td>@inforlong @MariaGascon Despite\\nChina trade w...</td>\n",
       "      <td>3</td>\n",
       "      <td>2018-10-09 03:51:06+00:00</td>\n",
       "      <td>CAT</td>\n",
       "      <td>despite china trade war  held very well  thu...</td>\n",
       "    </tr>\n",
       "    <tr>\n",
       "      <td>2</td>\n",
       "      <td>$AVGO WTF?</td>\n",
       "      <td>2</td>\n",
       "      <td>2018-07-12 13:35:32+00:00</td>\n",
       "      <td>AVGO</td>\n",
       "      <td>wtf</td>\n",
       "    </tr>\n",
       "    <tr>\n",
       "      <td>3</td>\n",
       "      <td>$PH\\n New Insider Filing On: \\n MULLER KLAUS P...</td>\n",
       "      <td>2</td>\n",
       "      <td>2018-07-19 03:32:50+00:00</td>\n",
       "      <td>PH</td>\n",
       "      <td>new insider filing on  muller klaus peter tr...</td>\n",
       "    </tr>\n",
       "    <tr>\n",
       "      <td>4</td>\n",
       "      <td>$FB if it bounces tommorrow do the right thing...</td>\n",
       "      <td>3</td>\n",
       "      <td>2018-08-23 19:07:54+00:00</td>\n",
       "      <td>FB</td>\n",
       "      <td>if it bounces tommorrow do the right thing an...</td>\n",
       "    </tr>\n",
       "    <tr>\n",
       "      <td>...</td>\n",
       "      <td>...</td>\n",
       "      <td>...</td>\n",
       "      <td>...</td>\n",
       "      <td>...</td>\n",
       "      <td>...</td>\n",
       "    </tr>\n",
       "    <tr>\n",
       "      <td>1039126</td>\n",
       "      <td>$CLF https://twitter.com/hrdrckminer/status/10...</td>\n",
       "      <td>2</td>\n",
       "      <td>2018-08-13 22:15:04+00:00</td>\n",
       "      <td>CLF</td>\n",
       "      <td></td>\n",
       "    </tr>\n",
       "    <tr>\n",
       "      <td>1039127</td>\n",
       "      <td>$AMD 🔥🔥🔥</td>\n",
       "      <td>3</td>\n",
       "      <td>2018-09-04 15:25:59+00:00</td>\n",
       "      <td>AMD</td>\n",
       "      <td>nan</td>\n",
       "    </tr>\n",
       "    <tr>\n",
       "      <td>1039128</td>\n",
       "      <td>$FB damn should of shorted 196 after hours to ...</td>\n",
       "      <td>0</td>\n",
       "      <td>2018-07-25 21:29:03+00:00</td>\n",
       "      <td>FB</td>\n",
       "      <td>damn should of shorted  after hours to late now</td>\n",
       "    </tr>\n",
       "    <tr>\n",
       "      <td>1039129</td>\n",
       "      <td>$AMD back to the 31&amp;#39;s</td>\n",
       "      <td>0</td>\n",
       "      <td>2018-09-28 16:19:55+00:00</td>\n",
       "      <td>AMD</td>\n",
       "      <td>back to the  s</td>\n",
       "    </tr>\n",
       "    <tr>\n",
       "      <td>1039130</td>\n",
       "      <td>$AMZN Lagging other tech today.</td>\n",
       "      <td>2</td>\n",
       "      <td>2018-07-05 17:14:00+00:00</td>\n",
       "      <td>AMZN</td>\n",
       "      <td>lagging other tech today</td>\n",
       "    </tr>\n",
       "  </tbody>\n",
       "</table>\n",
       "<p>1027761 rows × 5 columns</p>\n",
       "</div>"
      ],
      "text/plain": [
       "                                           stocktwit_Tweet  Sentiment_score  \\\n",
       "0        $AMD going up but hesitating however chart is ...                3   \n",
       "1        @inforlong @MariaGascon Despite\\nChina trade w...                3   \n",
       "2                                               $AVGO WTF?                2   \n",
       "3        $PH\\n New Insider Filing On: \\n MULLER KLAUS P...                2   \n",
       "4        $FB if it bounces tommorrow do the right thing...                3   \n",
       "...                                                    ...              ...   \n",
       "1039126  $CLF https://twitter.com/hrdrckminer/status/10...                2   \n",
       "1039127                                           $AMD 🔥🔥🔥                3   \n",
       "1039128  $FB damn should of shorted 196 after hours to ...                0   \n",
       "1039129                          $AMD back to the 31&#39;s                0   \n",
       "1039130                    $AMZN Lagging other tech today.                2   \n",
       "\n",
       "                         timestamp ticker  \\\n",
       "0        2018-09-19 18:38:28+00:00    AMD   \n",
       "1        2018-10-09 03:51:06+00:00    CAT   \n",
       "2        2018-07-12 13:35:32+00:00   AVGO   \n",
       "3        2018-07-19 03:32:50+00:00     PH   \n",
       "4        2018-08-23 19:07:54+00:00     FB   \n",
       "...                            ...    ...   \n",
       "1039126  2018-08-13 22:15:04+00:00    CLF   \n",
       "1039127  2018-09-04 15:25:59+00:00    AMD   \n",
       "1039128  2018-07-25 21:29:03+00:00     FB   \n",
       "1039129  2018-09-28 16:19:55+00:00    AMD   \n",
       "1039130  2018-07-05 17:14:00+00:00   AMZN   \n",
       "\n",
       "                                                 cln_tweet  \n",
       "0         going up but hesitating however chart is very...  \n",
       "1          despite china trade war  held very well  thu...  \n",
       "2                                                     wtf   \n",
       "3          new insider filing on  muller klaus peter tr...  \n",
       "4         if it bounces tommorrow do the right thing an...  \n",
       "...                                                    ...  \n",
       "1039126                                                     \n",
       "1039127                                                nan  \n",
       "1039128    damn should of shorted  after hours to late now  \n",
       "1039129                                     back to the  s  \n",
       "1039130                          lagging other tech today   \n",
       "\n",
       "[1027761 rows x 5 columns]"
      ]
     },
     "execution_count": 67,
     "metadata": {},
     "output_type": "execute_result"
    }
   ],
   "source": [
    "tweet_json_data"
   ]
  },
  {
   "cell_type": "code",
   "execution_count": 68,
   "metadata": {},
   "outputs": [],
   "source": [
    "tweet_json_data['timestamp'] = tweet_json_data['timestamp'].str.split(' ').str[0]"
   ]
  },
  {
   "cell_type": "code",
   "execution_count": 69,
   "metadata": {},
   "outputs": [],
   "source": [
    "tweet_json_data['month'] = tweet_json_data['timestamp'].str.split('-', expand = True)[1]\n",
    "tweet_json_data['day'] = tweet_json_data['timestamp'].str.split('-', expand = True)[2]"
   ]
  },
  {
   "cell_type": "code",
   "execution_count": 70,
   "metadata": {},
   "outputs": [
    {
     "data": {
      "text/html": [
       "<div>\n",
       "<style scoped>\n",
       "    .dataframe tbody tr th:only-of-type {\n",
       "        vertical-align: middle;\n",
       "    }\n",
       "\n",
       "    .dataframe tbody tr th {\n",
       "        vertical-align: top;\n",
       "    }\n",
       "\n",
       "    .dataframe thead th {\n",
       "        text-align: right;\n",
       "    }\n",
       "</style>\n",
       "<table border=\"1\" class=\"dataframe\">\n",
       "  <thead>\n",
       "    <tr style=\"text-align: right;\">\n",
       "      <th></th>\n",
       "      <th>stocktwit_Tweet</th>\n",
       "      <th>Sentiment_score</th>\n",
       "      <th>timestamp</th>\n",
       "      <th>ticker</th>\n",
       "      <th>cln_tweet</th>\n",
       "      <th>month</th>\n",
       "      <th>day</th>\n",
       "    </tr>\n",
       "  </thead>\n",
       "  <tbody>\n",
       "    <tr>\n",
       "      <td>0</td>\n",
       "      <td>$AMD going up but hesitating however chart is ...</td>\n",
       "      <td>3</td>\n",
       "      <td>2018-09-19</td>\n",
       "      <td>AMD</td>\n",
       "      <td>going up but hesitating however chart is very...</td>\n",
       "      <td>09</td>\n",
       "      <td>19</td>\n",
       "    </tr>\n",
       "    <tr>\n",
       "      <td>1</td>\n",
       "      <td>@inforlong @MariaGascon Despite\\nChina trade w...</td>\n",
       "      <td>3</td>\n",
       "      <td>2018-10-09</td>\n",
       "      <td>CAT</td>\n",
       "      <td>despite china trade war  held very well  thu...</td>\n",
       "      <td>10</td>\n",
       "      <td>09</td>\n",
       "    </tr>\n",
       "    <tr>\n",
       "      <td>2</td>\n",
       "      <td>$AVGO WTF?</td>\n",
       "      <td>2</td>\n",
       "      <td>2018-07-12</td>\n",
       "      <td>AVGO</td>\n",
       "      <td>wtf</td>\n",
       "      <td>07</td>\n",
       "      <td>12</td>\n",
       "    </tr>\n",
       "    <tr>\n",
       "      <td>3</td>\n",
       "      <td>$PH\\n New Insider Filing On: \\n MULLER KLAUS P...</td>\n",
       "      <td>2</td>\n",
       "      <td>2018-07-19</td>\n",
       "      <td>PH</td>\n",
       "      <td>new insider filing on  muller klaus peter tr...</td>\n",
       "      <td>07</td>\n",
       "      <td>19</td>\n",
       "    </tr>\n",
       "    <tr>\n",
       "      <td>4</td>\n",
       "      <td>$FB if it bounces tommorrow do the right thing...</td>\n",
       "      <td>3</td>\n",
       "      <td>2018-08-23</td>\n",
       "      <td>FB</td>\n",
       "      <td>if it bounces tommorrow do the right thing an...</td>\n",
       "      <td>08</td>\n",
       "      <td>23</td>\n",
       "    </tr>\n",
       "  </tbody>\n",
       "</table>\n",
       "</div>"
      ],
      "text/plain": [
       "                                     stocktwit_Tweet  Sentiment_score  \\\n",
       "0  $AMD going up but hesitating however chart is ...                3   \n",
       "1  @inforlong @MariaGascon Despite\\nChina trade w...                3   \n",
       "2                                         $AVGO WTF?                2   \n",
       "3  $PH\\n New Insider Filing On: \\n MULLER KLAUS P...                2   \n",
       "4  $FB if it bounces tommorrow do the right thing...                3   \n",
       "\n",
       "    timestamp ticker                                          cln_tweet month  \\\n",
       "0  2018-09-19    AMD   going up but hesitating however chart is very...    09   \n",
       "1  2018-10-09    CAT    despite china trade war  held very well  thu...    10   \n",
       "2  2018-07-12   AVGO                                               wtf     07   \n",
       "3  2018-07-19     PH    new insider filing on  muller klaus peter tr...    07   \n",
       "4  2018-08-23     FB   if it bounces tommorrow do the right thing an...    08   \n",
       "\n",
       "  day  \n",
       "0  19  \n",
       "1  09  \n",
       "2  12  \n",
       "3  19  \n",
       "4  23  "
      ]
     },
     "execution_count": 70,
     "metadata": {},
     "output_type": "execute_result"
    }
   ],
   "source": [
    "tweet_json_data.head()"
   ]
  },
  {
   "cell_type": "markdown",
   "metadata": {},
   "source": [
    "#### Removing the untidy tweet column\n"
   ]
  },
  {
   "cell_type": "code",
   "execution_count": 75,
   "metadata": {},
   "outputs": [],
   "source": [
    "tweet_json_data.drop('stocktwit_Tweet', axis=1,inplace=True)"
   ]
  },
  {
   "cell_type": "code",
   "execution_count": 76,
   "metadata": {},
   "outputs": [
    {
     "data": {
      "text/html": [
       "<div>\n",
       "<style scoped>\n",
       "    .dataframe tbody tr th:only-of-type {\n",
       "        vertical-align: middle;\n",
       "    }\n",
       "\n",
       "    .dataframe tbody tr th {\n",
       "        vertical-align: top;\n",
       "    }\n",
       "\n",
       "    .dataframe thead th {\n",
       "        text-align: right;\n",
       "    }\n",
       "</style>\n",
       "<table border=\"1\" class=\"dataframe\">\n",
       "  <thead>\n",
       "    <tr style=\"text-align: right;\">\n",
       "      <th></th>\n",
       "      <th>Sentiment_score</th>\n",
       "      <th>timestamp</th>\n",
       "      <th>ticker</th>\n",
       "      <th>cln_tweet</th>\n",
       "      <th>month</th>\n",
       "      <th>day</th>\n",
       "    </tr>\n",
       "  </thead>\n",
       "  <tbody>\n",
       "    <tr>\n",
       "      <td>0</td>\n",
       "      <td>3</td>\n",
       "      <td>2018-09-19</td>\n",
       "      <td>AMD</td>\n",
       "      <td>going up but hesitating however chart is very...</td>\n",
       "      <td>09</td>\n",
       "      <td>19</td>\n",
       "    </tr>\n",
       "    <tr>\n",
       "      <td>1</td>\n",
       "      <td>3</td>\n",
       "      <td>2018-10-09</td>\n",
       "      <td>CAT</td>\n",
       "      <td>despite china trade war  held very well  thu...</td>\n",
       "      <td>10</td>\n",
       "      <td>09</td>\n",
       "    </tr>\n",
       "    <tr>\n",
       "      <td>2</td>\n",
       "      <td>2</td>\n",
       "      <td>2018-07-12</td>\n",
       "      <td>AVGO</td>\n",
       "      <td>wtf</td>\n",
       "      <td>07</td>\n",
       "      <td>12</td>\n",
       "    </tr>\n",
       "    <tr>\n",
       "      <td>3</td>\n",
       "      <td>2</td>\n",
       "      <td>2018-07-19</td>\n",
       "      <td>PH</td>\n",
       "      <td>new insider filing on  muller klaus peter tr...</td>\n",
       "      <td>07</td>\n",
       "      <td>19</td>\n",
       "    </tr>\n",
       "    <tr>\n",
       "      <td>4</td>\n",
       "      <td>3</td>\n",
       "      <td>2018-08-23</td>\n",
       "      <td>FB</td>\n",
       "      <td>if it bounces tommorrow do the right thing an...</td>\n",
       "      <td>08</td>\n",
       "      <td>23</td>\n",
       "    </tr>\n",
       "  </tbody>\n",
       "</table>\n",
       "</div>"
      ],
      "text/plain": [
       "   Sentiment_score   timestamp ticker  \\\n",
       "0                3  2018-09-19    AMD   \n",
       "1                3  2018-10-09    CAT   \n",
       "2                2  2018-07-12   AVGO   \n",
       "3                2  2018-07-19     PH   \n",
       "4                3  2018-08-23     FB   \n",
       "\n",
       "                                           cln_tweet month day  \n",
       "0   going up but hesitating however chart is very...    09  19  \n",
       "1    despite china trade war  held very well  thu...    10  09  \n",
       "2                                               wtf     07  12  \n",
       "3    new insider filing on  muller klaus peter tr...    07  19  \n",
       "4   if it bounces tommorrow do the right thing an...    08  23  "
      ]
     },
     "execution_count": 76,
     "metadata": {},
     "output_type": "execute_result"
    }
   ],
   "source": [
    "tweet_json_data.head()"
   ]
  },
  {
   "cell_type": "code",
   "execution_count": 77,
   "metadata": {},
   "outputs": [
    {
     "data": {
      "text/plain": [
       "10    271686\n",
       "08    259302\n",
       "07    251086\n",
       "09    245687\n",
       "Name: month, dtype: int64"
      ]
     },
     "execution_count": 77,
     "metadata": {},
     "output_type": "execute_result"
    }
   ],
   "source": [
    "tweet_json_data['month'].value_counts()"
   ]
  },
  {
   "cell_type": "markdown",
   "metadata": {},
   "source": [
    "### GroupBy with Timestamp and Ticket- Aggregating the sentiment score"
   ]
  },
  {
   "cell_type": "code",
   "execution_count": 89,
   "metadata": {},
   "outputs": [],
   "source": [
    "tweet_json_data_grpdate=tweet_json_data.groupby(by=['timestamp','ticker'])['Sentiment_score'].agg(lambda x:x.value_counts().index[0]).to_frame()\n",
    "\n"
   ]
  },
  {
   "cell_type": "code",
   "execution_count": 90,
   "metadata": {},
   "outputs": [
    {
     "data": {
      "text/plain": [
       "(57566, 1)"
      ]
     },
     "execution_count": 90,
     "metadata": {},
     "output_type": "execute_result"
    }
   ],
   "source": [
    "tweet_json_data_grpdate.shape"
   ]
  },
  {
   "cell_type": "code",
   "execution_count": 91,
   "metadata": {},
   "outputs": [
    {
     "data": {
      "text/html": [
       "<div>\n",
       "<style scoped>\n",
       "    .dataframe tbody tr th:only-of-type {\n",
       "        vertical-align: middle;\n",
       "    }\n",
       "\n",
       "    .dataframe tbody tr th {\n",
       "        vertical-align: top;\n",
       "    }\n",
       "\n",
       "    .dataframe thead th {\n",
       "        text-align: right;\n",
       "    }\n",
       "</style>\n",
       "<table border=\"1\" class=\"dataframe\">\n",
       "  <thead>\n",
       "    <tr style=\"text-align: right;\">\n",
       "      <th></th>\n",
       "      <th></th>\n",
       "      <th>Sentiment_score</th>\n",
       "    </tr>\n",
       "    <tr>\n",
       "      <th>timestamp</th>\n",
       "      <th>ticker</th>\n",
       "      <th></th>\n",
       "    </tr>\n",
       "  </thead>\n",
       "  <tbody>\n",
       "    <tr>\n",
       "      <td rowspan=\"5\" valign=\"top\">2018-07-01</td>\n",
       "      <td>AABA</td>\n",
       "      <td>2</td>\n",
       "    </tr>\n",
       "    <tr>\n",
       "      <td>AAL</td>\n",
       "      <td>3</td>\n",
       "    </tr>\n",
       "    <tr>\n",
       "      <td>AAP</td>\n",
       "      <td>1</td>\n",
       "    </tr>\n",
       "    <tr>\n",
       "      <td>AAPL</td>\n",
       "      <td>2</td>\n",
       "    </tr>\n",
       "    <tr>\n",
       "      <td>ABBV</td>\n",
       "      <td>0</td>\n",
       "    </tr>\n",
       "  </tbody>\n",
       "</table>\n",
       "</div>"
      ],
      "text/plain": [
       "                   Sentiment_score\n",
       "timestamp  ticker                 \n",
       "2018-07-01 AABA                  2\n",
       "           AAL                   3\n",
       "           AAP                   1\n",
       "           AAPL                  2\n",
       "           ABBV                  0"
      ]
     },
     "execution_count": 91,
     "metadata": {},
     "output_type": "execute_result"
    }
   ],
   "source": [
    "tweet_json_data_grpdate.head()"
   ]
  },
  {
   "cell_type": "code",
   "execution_count": 94,
   "metadata": {},
   "outputs": [],
   "source": [
    "#tweet_json_data_grpdate=tweet_json_data_grpdate['Sentiment_score']"
   ]
  },
  {
   "cell_type": "code",
   "execution_count": 260,
   "metadata": {},
   "outputs": [
    {
     "data": {
      "text/plain": [
       "Index(['Sentiment_score', 'timestamp', 'ticker', 'cln_tweet', 'month', 'day'], dtype='object')"
      ]
     },
     "execution_count": 260,
     "metadata": {},
     "output_type": "execute_result"
    }
   ],
   "source": [
    "tweet_json_data.columns"
   ]
  },
  {
   "cell_type": "code",
   "execution_count": 261,
   "metadata": {},
   "outputs": [],
   "source": [
    "tweet_json_model_df = tweet_json_data.filter(['Sentiment_score', 'timestamp', 'ticker', 'cln_tweet', 'month', 'day'], axis=1)"
   ]
  },
  {
   "cell_type": "code",
   "execution_count": 262,
   "metadata": {},
   "outputs": [],
   "source": [
    "#tweet_json_model_df= tweet_json_data"
   ]
  },
  {
   "cell_type": "code",
   "execution_count": 263,
   "metadata": {},
   "outputs": [
    {
     "data": {
      "text/plain": [
       "(1027761, 6)"
      ]
     },
     "execution_count": 263,
     "metadata": {},
     "output_type": "execute_result"
    }
   ],
   "source": [
    "tweet_json_model_df.shape"
   ]
  },
  {
   "cell_type": "code",
   "execution_count": 264,
   "metadata": {},
   "outputs": [
    {
     "data": {
      "text/html": [
       "<div>\n",
       "<style scoped>\n",
       "    .dataframe tbody tr th:only-of-type {\n",
       "        vertical-align: middle;\n",
       "    }\n",
       "\n",
       "    .dataframe tbody tr th {\n",
       "        vertical-align: top;\n",
       "    }\n",
       "\n",
       "    .dataframe thead th {\n",
       "        text-align: right;\n",
       "    }\n",
       "</style>\n",
       "<table border=\"1\" class=\"dataframe\">\n",
       "  <thead>\n",
       "    <tr style=\"text-align: right;\">\n",
       "      <th></th>\n",
       "      <th>Sentiment_score</th>\n",
       "      <th>timestamp</th>\n",
       "      <th>ticker</th>\n",
       "      <th>cln_tweet</th>\n",
       "      <th>month</th>\n",
       "      <th>day</th>\n",
       "    </tr>\n",
       "  </thead>\n",
       "  <tbody>\n",
       "    <tr>\n",
       "      <td>0</td>\n",
       "      <td>3</td>\n",
       "      <td>2018-09-19</td>\n",
       "      <td>AMD</td>\n",
       "      <td>going up but hesitating however chart is very...</td>\n",
       "      <td>09</td>\n",
       "      <td>19</td>\n",
       "    </tr>\n",
       "    <tr>\n",
       "      <td>1</td>\n",
       "      <td>3</td>\n",
       "      <td>2018-10-09</td>\n",
       "      <td>CAT</td>\n",
       "      <td>despite china trade war  held very well  thu...</td>\n",
       "      <td>10</td>\n",
       "      <td>09</td>\n",
       "    </tr>\n",
       "    <tr>\n",
       "      <td>2</td>\n",
       "      <td>2</td>\n",
       "      <td>2018-07-12</td>\n",
       "      <td>AVGO</td>\n",
       "      <td>wtf</td>\n",
       "      <td>07</td>\n",
       "      <td>12</td>\n",
       "    </tr>\n",
       "    <tr>\n",
       "      <td>3</td>\n",
       "      <td>2</td>\n",
       "      <td>2018-07-19</td>\n",
       "      <td>PH</td>\n",
       "      <td>new insider filing on  muller klaus peter tr...</td>\n",
       "      <td>07</td>\n",
       "      <td>19</td>\n",
       "    </tr>\n",
       "    <tr>\n",
       "      <td>4</td>\n",
       "      <td>3</td>\n",
       "      <td>2018-08-23</td>\n",
       "      <td>FB</td>\n",
       "      <td>if it bounces tommorrow do the right thing an...</td>\n",
       "      <td>08</td>\n",
       "      <td>23</td>\n",
       "    </tr>\n",
       "  </tbody>\n",
       "</table>\n",
       "</div>"
      ],
      "text/plain": [
       "   Sentiment_score   timestamp ticker  \\\n",
       "0                3  2018-09-19    AMD   \n",
       "1                3  2018-10-09    CAT   \n",
       "2                2  2018-07-12   AVGO   \n",
       "3                2  2018-07-19     PH   \n",
       "4                3  2018-08-23     FB   \n",
       "\n",
       "                                           cln_tweet month day  \n",
       "0   going up but hesitating however chart is very...    09  19  \n",
       "1    despite china trade war  held very well  thu...    10  09  \n",
       "2                                               wtf     07  12  \n",
       "3    new insider filing on  muller klaus peter tr...    07  19  \n",
       "4   if it bounces tommorrow do the right thing an...    08  23  "
      ]
     },
     "execution_count": 264,
     "metadata": {},
     "output_type": "execute_result"
    }
   ],
   "source": [
    "tweet_json_model_df.head()"
   ]
  },
  {
   "cell_type": "markdown",
   "metadata": {},
   "source": [
    "### Tokenization"
   ]
  },
  {
   "cell_type": "code",
   "execution_count": 265,
   "metadata": {},
   "outputs": [],
   "source": [
    "from nltk.corpus import wordnet\n",
    "import nltk\n",
    "from nltk.corpus import wordnet as wn\n",
    "from nltk.stem.wordnet import WordNetLemmatizer\n",
    "\n",
    "from nltk.tokenize.toktok import ToktokTokenizer\n",
    "import re\n",
    "\n",
    "import nltk\n",
    "from nltk.tokenize import word_tokenize\n",
    "from nltk.corpus import stopwords\n",
    "from sklearn.feature_extraction.text import CountVectorizer\n",
    "import en_core_web_sm\n",
    "from sklearn.metrics import classification_report,confusion_matrix"
   ]
  },
  {
   "cell_type": "code",
   "execution_count": 266,
   "metadata": {},
   "outputs": [],
   "source": [
    "tweet_json_model_df['token_tweets'] = tweet_json_model_df['cln_tweet'].apply(lambda x: x.split()) # tokenizing"
   ]
  },
  {
   "cell_type": "markdown",
   "metadata": {},
   "source": [
    "### Stop words removal"
   ]
  },
  {
   "cell_type": "code",
   "execution_count": 267,
   "metadata": {},
   "outputs": [],
   "source": [
    "from nltk.corpus import stopwords\n",
    "stop = stopwords.words('english')"
   ]
  },
  {
   "cell_type": "code",
   "execution_count": 268,
   "metadata": {},
   "outputs": [
    {
     "data": {
      "application/vnd.jupyter.widget-view+json": {
       "model_id": "2ccbb8f2a41648638764e8ef020d2de3",
       "version_major": 2,
       "version_minor": 0
      },
      "text/plain": [
       "HBox(children=(IntProgress(value=0, max=1027761), HTML(value='')))"
      ]
     },
     "metadata": {},
     "output_type": "display_data"
    },
    {
     "name": "stdout",
     "output_type": "stream",
     "text": [
      "\n"
     ]
    }
   ],
   "source": [
    "from tqdm import tqdm_notebook as tq\n",
    "\n",
    "stop_words_removed = []\n",
    "\n",
    "for tokenized_words in tq(tweet_json_model_df['token_tweets']):\n",
    "    \n",
    "    stop_words_removed.append([word for word in tokenized_words if word not in stop])\n",
    "    \n"
   ]
  },
  {
   "cell_type": "code",
   "execution_count": 269,
   "metadata": {},
   "outputs": [],
   "source": [
    "tweet_json_model_df['sw_rem_data'] = stop_words_removed"
   ]
  },
  {
   "cell_type": "markdown",
   "metadata": {},
   "source": [
    "## Lemmatization"
   ]
  },
  {
   "cell_type": "code",
   "execution_count": 270,
   "metadata": {},
   "outputs": [],
   "source": [
    "lemmatizer = WordNetLemmatizer()\n",
    "tweet_json_model_df['lemm_words'] = tweet_json_model_df['sw_rem_data'].apply(lambda x: [lemmatizer.lemmatize(i,pos = 'v') for i in x])\n",
    "\n"
   ]
  },
  {
   "cell_type": "code",
   "execution_count": 271,
   "metadata": {},
   "outputs": [
    {
     "data": {
      "text/html": [
       "<div>\n",
       "<style scoped>\n",
       "    .dataframe tbody tr th:only-of-type {\n",
       "        vertical-align: middle;\n",
       "    }\n",
       "\n",
       "    .dataframe tbody tr th {\n",
       "        vertical-align: top;\n",
       "    }\n",
       "\n",
       "    .dataframe thead th {\n",
       "        text-align: right;\n",
       "    }\n",
       "</style>\n",
       "<table border=\"1\" class=\"dataframe\">\n",
       "  <thead>\n",
       "    <tr style=\"text-align: right;\">\n",
       "      <th></th>\n",
       "      <th>Sentiment_score</th>\n",
       "      <th>timestamp</th>\n",
       "      <th>ticker</th>\n",
       "      <th>cln_tweet</th>\n",
       "      <th>month</th>\n",
       "      <th>day</th>\n",
       "      <th>token_tweets</th>\n",
       "      <th>sw_rem_data</th>\n",
       "      <th>lemm_words</th>\n",
       "    </tr>\n",
       "  </thead>\n",
       "  <tbody>\n",
       "    <tr>\n",
       "      <td>0</td>\n",
       "      <td>3</td>\n",
       "      <td>2018-09-19</td>\n",
       "      <td>AMD</td>\n",
       "      <td>going up but hesitating however chart is very...</td>\n",
       "      <td>09</td>\n",
       "      <td>19</td>\n",
       "      <td>[going, up, but, hesitating, however, chart, i...</td>\n",
       "      <td>[going, hesitating, however, chart, stable, go...</td>\n",
       "      <td>[go, hesitate, however, chart, stable, go, upw...</td>\n",
       "    </tr>\n",
       "    <tr>\n",
       "      <td>1</td>\n",
       "      <td>3</td>\n",
       "      <td>2018-10-09</td>\n",
       "      <td>CAT</td>\n",
       "      <td>despite china trade war  held very well  thu...</td>\n",
       "      <td>10</td>\n",
       "      <td>09</td>\n",
       "      <td>[despite, china, trade, war, held, very, well,...</td>\n",
       "      <td>[despite, china, trade, war, held, well, thumbs]</td>\n",
       "      <td>[despite, china, trade, war, hold, well, thumb]</td>\n",
       "    </tr>\n",
       "    <tr>\n",
       "      <td>2</td>\n",
       "      <td>2</td>\n",
       "      <td>2018-07-12</td>\n",
       "      <td>AVGO</td>\n",
       "      <td>wtf</td>\n",
       "      <td>07</td>\n",
       "      <td>12</td>\n",
       "      <td>[wtf]</td>\n",
       "      <td>[wtf]</td>\n",
       "      <td>[wtf]</td>\n",
       "    </tr>\n",
       "    <tr>\n",
       "      <td>3</td>\n",
       "      <td>2</td>\n",
       "      <td>2018-07-19</td>\n",
       "      <td>PH</td>\n",
       "      <td>new insider filing on  muller klaus peter tr...</td>\n",
       "      <td>07</td>\n",
       "      <td>19</td>\n",
       "      <td>[new, insider, filing, on, muller, klaus, pete...</td>\n",
       "      <td>[new, insider, filing, muller, klaus, peter, t...</td>\n",
       "      <td>[new, insider, file, muller, klaus, peter, tra...</td>\n",
       "    </tr>\n",
       "    <tr>\n",
       "      <td>4</td>\n",
       "      <td>3</td>\n",
       "      <td>2018-08-23</td>\n",
       "      <td>FB</td>\n",
       "      <td>if it bounces tommorrow do the right thing an...</td>\n",
       "      <td>08</td>\n",
       "      <td>23</td>\n",
       "      <td>[if, it, bounces, tommorrow, do, the, right, t...</td>\n",
       "      <td>[bounces, tommorrow, right, thing, gtfo]</td>\n",
       "      <td>[bounce, tommorrow, right, thing, gtfo]</td>\n",
       "    </tr>\n",
       "    <tr>\n",
       "      <td>...</td>\n",
       "      <td>...</td>\n",
       "      <td>...</td>\n",
       "      <td>...</td>\n",
       "      <td>...</td>\n",
       "      <td>...</td>\n",
       "      <td>...</td>\n",
       "      <td>...</td>\n",
       "      <td>...</td>\n",
       "      <td>...</td>\n",
       "    </tr>\n",
       "    <tr>\n",
       "      <td>1039126</td>\n",
       "      <td>2</td>\n",
       "      <td>2018-08-13</td>\n",
       "      <td>CLF</td>\n",
       "      <td></td>\n",
       "      <td>08</td>\n",
       "      <td>13</td>\n",
       "      <td>[]</td>\n",
       "      <td>[]</td>\n",
       "      <td>[]</td>\n",
       "    </tr>\n",
       "    <tr>\n",
       "      <td>1039127</td>\n",
       "      <td>3</td>\n",
       "      <td>2018-09-04</td>\n",
       "      <td>AMD</td>\n",
       "      <td>nan</td>\n",
       "      <td>09</td>\n",
       "      <td>04</td>\n",
       "      <td>[nan]</td>\n",
       "      <td>[nan]</td>\n",
       "      <td>[nan]</td>\n",
       "    </tr>\n",
       "    <tr>\n",
       "      <td>1039128</td>\n",
       "      <td>0</td>\n",
       "      <td>2018-07-25</td>\n",
       "      <td>FB</td>\n",
       "      <td>damn should of shorted  after hours to late now</td>\n",
       "      <td>07</td>\n",
       "      <td>25</td>\n",
       "      <td>[damn, should, of, shorted, after, hours, to, ...</td>\n",
       "      <td>[damn, shorted, hours, late]</td>\n",
       "      <td>[damn, short, hours, late]</td>\n",
       "    </tr>\n",
       "    <tr>\n",
       "      <td>1039129</td>\n",
       "      <td>0</td>\n",
       "      <td>2018-09-28</td>\n",
       "      <td>AMD</td>\n",
       "      <td>back to the  s</td>\n",
       "      <td>09</td>\n",
       "      <td>28</td>\n",
       "      <td>[back, to, the, s]</td>\n",
       "      <td>[back]</td>\n",
       "      <td>[back]</td>\n",
       "    </tr>\n",
       "    <tr>\n",
       "      <td>1039130</td>\n",
       "      <td>2</td>\n",
       "      <td>2018-07-05</td>\n",
       "      <td>AMZN</td>\n",
       "      <td>lagging other tech today</td>\n",
       "      <td>07</td>\n",
       "      <td>05</td>\n",
       "      <td>[lagging, other, tech, today]</td>\n",
       "      <td>[lagging, tech, today]</td>\n",
       "      <td>[lag, tech, today]</td>\n",
       "    </tr>\n",
       "  </tbody>\n",
       "</table>\n",
       "<p>1027761 rows × 9 columns</p>\n",
       "</div>"
      ],
      "text/plain": [
       "         Sentiment_score   timestamp ticker  \\\n",
       "0                      3  2018-09-19    AMD   \n",
       "1                      3  2018-10-09    CAT   \n",
       "2                      2  2018-07-12   AVGO   \n",
       "3                      2  2018-07-19     PH   \n",
       "4                      3  2018-08-23     FB   \n",
       "...                  ...         ...    ...   \n",
       "1039126                2  2018-08-13    CLF   \n",
       "1039127                3  2018-09-04    AMD   \n",
       "1039128                0  2018-07-25     FB   \n",
       "1039129                0  2018-09-28    AMD   \n",
       "1039130                2  2018-07-05   AMZN   \n",
       "\n",
       "                                                 cln_tweet month day  \\\n",
       "0         going up but hesitating however chart is very...    09  19   \n",
       "1          despite china trade war  held very well  thu...    10  09   \n",
       "2                                                     wtf     07  12   \n",
       "3          new insider filing on  muller klaus peter tr...    07  19   \n",
       "4         if it bounces tommorrow do the right thing an...    08  23   \n",
       "...                                                    ...   ...  ..   \n",
       "1039126                                                       08  13   \n",
       "1039127                                                nan    09  04   \n",
       "1039128    damn should of shorted  after hours to late now    07  25   \n",
       "1039129                                     back to the  s    09  28   \n",
       "1039130                          lagging other tech today     07  05   \n",
       "\n",
       "                                              token_tweets  \\\n",
       "0        [going, up, but, hesitating, however, chart, i...   \n",
       "1        [despite, china, trade, war, held, very, well,...   \n",
       "2                                                    [wtf]   \n",
       "3        [new, insider, filing, on, muller, klaus, pete...   \n",
       "4        [if, it, bounces, tommorrow, do, the, right, t...   \n",
       "...                                                    ...   \n",
       "1039126                                                 []   \n",
       "1039127                                              [nan]   \n",
       "1039128  [damn, should, of, shorted, after, hours, to, ...   \n",
       "1039129                                 [back, to, the, s]   \n",
       "1039130                      [lagging, other, tech, today]   \n",
       "\n",
       "                                               sw_rem_data  \\\n",
       "0        [going, hesitating, however, chart, stable, go...   \n",
       "1         [despite, china, trade, war, held, well, thumbs]   \n",
       "2                                                    [wtf]   \n",
       "3        [new, insider, filing, muller, klaus, peter, t...   \n",
       "4                 [bounces, tommorrow, right, thing, gtfo]   \n",
       "...                                                    ...   \n",
       "1039126                                                 []   \n",
       "1039127                                              [nan]   \n",
       "1039128                       [damn, shorted, hours, late]   \n",
       "1039129                                             [back]   \n",
       "1039130                             [lagging, tech, today]   \n",
       "\n",
       "                                                lemm_words  \n",
       "0        [go, hesitate, however, chart, stable, go, upw...  \n",
       "1          [despite, china, trade, war, hold, well, thumb]  \n",
       "2                                                    [wtf]  \n",
       "3        [new, insider, file, muller, klaus, peter, tra...  \n",
       "4                  [bounce, tommorrow, right, thing, gtfo]  \n",
       "...                                                    ...  \n",
       "1039126                                                 []  \n",
       "1039127                                              [nan]  \n",
       "1039128                         [damn, short, hours, late]  \n",
       "1039129                                             [back]  \n",
       "1039130                                 [lag, tech, today]  \n",
       "\n",
       "[1027761 rows x 9 columns]"
      ]
     },
     "execution_count": 271,
     "metadata": {},
     "output_type": "execute_result"
    }
   ],
   "source": [
    "tweet_json_model_df"
   ]
  },
  {
   "cell_type": "code",
   "execution_count": 272,
   "metadata": {},
   "outputs": [],
   "source": [
    "tweet_json_model_df['cleanedTweet'] = tweet_json_model_df['lemm_words'].apply(lambda x: ' '.join(x))"
   ]
  },
  {
   "cell_type": "code",
   "execution_count": 273,
   "metadata": {},
   "outputs": [
    {
     "data": {
      "text/html": [
       "<div>\n",
       "<style scoped>\n",
       "    .dataframe tbody tr th:only-of-type {\n",
       "        vertical-align: middle;\n",
       "    }\n",
       "\n",
       "    .dataframe tbody tr th {\n",
       "        vertical-align: top;\n",
       "    }\n",
       "\n",
       "    .dataframe thead th {\n",
       "        text-align: right;\n",
       "    }\n",
       "</style>\n",
       "<table border=\"1\" class=\"dataframe\">\n",
       "  <thead>\n",
       "    <tr style=\"text-align: right;\">\n",
       "      <th></th>\n",
       "      <th>Sentiment_score</th>\n",
       "      <th>timestamp</th>\n",
       "      <th>ticker</th>\n",
       "      <th>cln_tweet</th>\n",
       "      <th>month</th>\n",
       "      <th>day</th>\n",
       "      <th>token_tweets</th>\n",
       "      <th>sw_rem_data</th>\n",
       "      <th>lemm_words</th>\n",
       "      <th>cleanedTweet</th>\n",
       "    </tr>\n",
       "  </thead>\n",
       "  <tbody>\n",
       "    <tr>\n",
       "      <td>0</td>\n",
       "      <td>3</td>\n",
       "      <td>2018-09-19</td>\n",
       "      <td>AMD</td>\n",
       "      <td>going up but hesitating however chart is very...</td>\n",
       "      <td>09</td>\n",
       "      <td>19</td>\n",
       "      <td>[going, up, but, hesitating, however, chart, i...</td>\n",
       "      <td>[going, hesitating, however, chart, stable, go...</td>\n",
       "      <td>[go, hesitate, however, chart, stable, go, upw...</td>\n",
       "      <td>go hesitate however chart stable go upward</td>\n",
       "    </tr>\n",
       "    <tr>\n",
       "      <td>1</td>\n",
       "      <td>3</td>\n",
       "      <td>2018-10-09</td>\n",
       "      <td>CAT</td>\n",
       "      <td>despite china trade war  held very well  thu...</td>\n",
       "      <td>10</td>\n",
       "      <td>09</td>\n",
       "      <td>[despite, china, trade, war, held, very, well,...</td>\n",
       "      <td>[despite, china, trade, war, held, well, thumbs]</td>\n",
       "      <td>[despite, china, trade, war, hold, well, thumb]</td>\n",
       "      <td>despite china trade war hold well thumb</td>\n",
       "    </tr>\n",
       "    <tr>\n",
       "      <td>2</td>\n",
       "      <td>2</td>\n",
       "      <td>2018-07-12</td>\n",
       "      <td>AVGO</td>\n",
       "      <td>wtf</td>\n",
       "      <td>07</td>\n",
       "      <td>12</td>\n",
       "      <td>[wtf]</td>\n",
       "      <td>[wtf]</td>\n",
       "      <td>[wtf]</td>\n",
       "      <td>wtf</td>\n",
       "    </tr>\n",
       "    <tr>\n",
       "      <td>3</td>\n",
       "      <td>2</td>\n",
       "      <td>2018-07-19</td>\n",
       "      <td>PH</td>\n",
       "      <td>new insider filing on  muller klaus peter tr...</td>\n",
       "      <td>07</td>\n",
       "      <td>19</td>\n",
       "      <td>[new, insider, filing, on, muller, klaus, pete...</td>\n",
       "      <td>[new, insider, filing, muller, klaus, peter, t...</td>\n",
       "      <td>[new, insider, file, muller, klaus, peter, tra...</td>\n",
       "      <td>new insider file muller klaus peter transactio...</td>\n",
       "    </tr>\n",
       "    <tr>\n",
       "      <td>4</td>\n",
       "      <td>3</td>\n",
       "      <td>2018-08-23</td>\n",
       "      <td>FB</td>\n",
       "      <td>if it bounces tommorrow do the right thing an...</td>\n",
       "      <td>08</td>\n",
       "      <td>23</td>\n",
       "      <td>[if, it, bounces, tommorrow, do, the, right, t...</td>\n",
       "      <td>[bounces, tommorrow, right, thing, gtfo]</td>\n",
       "      <td>[bounce, tommorrow, right, thing, gtfo]</td>\n",
       "      <td>bounce tommorrow right thing gtfo</td>\n",
       "    </tr>\n",
       "    <tr>\n",
       "      <td>...</td>\n",
       "      <td>...</td>\n",
       "      <td>...</td>\n",
       "      <td>...</td>\n",
       "      <td>...</td>\n",
       "      <td>...</td>\n",
       "      <td>...</td>\n",
       "      <td>...</td>\n",
       "      <td>...</td>\n",
       "      <td>...</td>\n",
       "      <td>...</td>\n",
       "    </tr>\n",
       "    <tr>\n",
       "      <td>1039126</td>\n",
       "      <td>2</td>\n",
       "      <td>2018-08-13</td>\n",
       "      <td>CLF</td>\n",
       "      <td></td>\n",
       "      <td>08</td>\n",
       "      <td>13</td>\n",
       "      <td>[]</td>\n",
       "      <td>[]</td>\n",
       "      <td>[]</td>\n",
       "      <td></td>\n",
       "    </tr>\n",
       "    <tr>\n",
       "      <td>1039127</td>\n",
       "      <td>3</td>\n",
       "      <td>2018-09-04</td>\n",
       "      <td>AMD</td>\n",
       "      <td>nan</td>\n",
       "      <td>09</td>\n",
       "      <td>04</td>\n",
       "      <td>[nan]</td>\n",
       "      <td>[nan]</td>\n",
       "      <td>[nan]</td>\n",
       "      <td>nan</td>\n",
       "    </tr>\n",
       "    <tr>\n",
       "      <td>1039128</td>\n",
       "      <td>0</td>\n",
       "      <td>2018-07-25</td>\n",
       "      <td>FB</td>\n",
       "      <td>damn should of shorted  after hours to late now</td>\n",
       "      <td>07</td>\n",
       "      <td>25</td>\n",
       "      <td>[damn, should, of, shorted, after, hours, to, ...</td>\n",
       "      <td>[damn, shorted, hours, late]</td>\n",
       "      <td>[damn, short, hours, late]</td>\n",
       "      <td>damn short hours late</td>\n",
       "    </tr>\n",
       "    <tr>\n",
       "      <td>1039129</td>\n",
       "      <td>0</td>\n",
       "      <td>2018-09-28</td>\n",
       "      <td>AMD</td>\n",
       "      <td>back to the  s</td>\n",
       "      <td>09</td>\n",
       "      <td>28</td>\n",
       "      <td>[back, to, the, s]</td>\n",
       "      <td>[back]</td>\n",
       "      <td>[back]</td>\n",
       "      <td>back</td>\n",
       "    </tr>\n",
       "    <tr>\n",
       "      <td>1039130</td>\n",
       "      <td>2</td>\n",
       "      <td>2018-07-05</td>\n",
       "      <td>AMZN</td>\n",
       "      <td>lagging other tech today</td>\n",
       "      <td>07</td>\n",
       "      <td>05</td>\n",
       "      <td>[lagging, other, tech, today]</td>\n",
       "      <td>[lagging, tech, today]</td>\n",
       "      <td>[lag, tech, today]</td>\n",
       "      <td>lag tech today</td>\n",
       "    </tr>\n",
       "  </tbody>\n",
       "</table>\n",
       "<p>1027761 rows × 10 columns</p>\n",
       "</div>"
      ],
      "text/plain": [
       "         Sentiment_score   timestamp ticker  \\\n",
       "0                      3  2018-09-19    AMD   \n",
       "1                      3  2018-10-09    CAT   \n",
       "2                      2  2018-07-12   AVGO   \n",
       "3                      2  2018-07-19     PH   \n",
       "4                      3  2018-08-23     FB   \n",
       "...                  ...         ...    ...   \n",
       "1039126                2  2018-08-13    CLF   \n",
       "1039127                3  2018-09-04    AMD   \n",
       "1039128                0  2018-07-25     FB   \n",
       "1039129                0  2018-09-28    AMD   \n",
       "1039130                2  2018-07-05   AMZN   \n",
       "\n",
       "                                                 cln_tweet month day  \\\n",
       "0         going up but hesitating however chart is very...    09  19   \n",
       "1          despite china trade war  held very well  thu...    10  09   \n",
       "2                                                     wtf     07  12   \n",
       "3          new insider filing on  muller klaus peter tr...    07  19   \n",
       "4         if it bounces tommorrow do the right thing an...    08  23   \n",
       "...                                                    ...   ...  ..   \n",
       "1039126                                                       08  13   \n",
       "1039127                                                nan    09  04   \n",
       "1039128    damn should of shorted  after hours to late now    07  25   \n",
       "1039129                                     back to the  s    09  28   \n",
       "1039130                          lagging other tech today     07  05   \n",
       "\n",
       "                                              token_tweets  \\\n",
       "0        [going, up, but, hesitating, however, chart, i...   \n",
       "1        [despite, china, trade, war, held, very, well,...   \n",
       "2                                                    [wtf]   \n",
       "3        [new, insider, filing, on, muller, klaus, pete...   \n",
       "4        [if, it, bounces, tommorrow, do, the, right, t...   \n",
       "...                                                    ...   \n",
       "1039126                                                 []   \n",
       "1039127                                              [nan]   \n",
       "1039128  [damn, should, of, shorted, after, hours, to, ...   \n",
       "1039129                                 [back, to, the, s]   \n",
       "1039130                      [lagging, other, tech, today]   \n",
       "\n",
       "                                               sw_rem_data  \\\n",
       "0        [going, hesitating, however, chart, stable, go...   \n",
       "1         [despite, china, trade, war, held, well, thumbs]   \n",
       "2                                                    [wtf]   \n",
       "3        [new, insider, filing, muller, klaus, peter, t...   \n",
       "4                 [bounces, tommorrow, right, thing, gtfo]   \n",
       "...                                                    ...   \n",
       "1039126                                                 []   \n",
       "1039127                                              [nan]   \n",
       "1039128                       [damn, shorted, hours, late]   \n",
       "1039129                                             [back]   \n",
       "1039130                             [lagging, tech, today]   \n",
       "\n",
       "                                                lemm_words  \\\n",
       "0        [go, hesitate, however, chart, stable, go, upw...   \n",
       "1          [despite, china, trade, war, hold, well, thumb]   \n",
       "2                                                    [wtf]   \n",
       "3        [new, insider, file, muller, klaus, peter, tra...   \n",
       "4                  [bounce, tommorrow, right, thing, gtfo]   \n",
       "...                                                    ...   \n",
       "1039126                                                 []   \n",
       "1039127                                              [nan]   \n",
       "1039128                         [damn, short, hours, late]   \n",
       "1039129                                             [back]   \n",
       "1039130                                 [lag, tech, today]   \n",
       "\n",
       "                                              cleanedTweet  \n",
       "0               go hesitate however chart stable go upward  \n",
       "1                  despite china trade war hold well thumb  \n",
       "2                                                      wtf  \n",
       "3        new insider file muller klaus peter transactio...  \n",
       "4                        bounce tommorrow right thing gtfo  \n",
       "...                                                    ...  \n",
       "1039126                                                     \n",
       "1039127                                                nan  \n",
       "1039128                              damn short hours late  \n",
       "1039129                                               back  \n",
       "1039130                                     lag tech today  \n",
       "\n",
       "[1027761 rows x 10 columns]"
      ]
     },
     "execution_count": 273,
     "metadata": {},
     "output_type": "execute_result"
    }
   ],
   "source": [
    "tweet_json_model_df"
   ]
  },
  {
   "cell_type": "code",
   "execution_count": 274,
   "metadata": {},
   "outputs": [],
   "source": [
    "#tweet_json_model_df=tweet_json_model_df.drop(\"cleanTweet\", axis=1)\n",
    "tweet_json_model_df=tweet_json_model_df.drop(\"token_tweets\", axis=1)\n",
    "tweet_json_model_df=tweet_json_model_df.drop(\"sw_rem_data\", axis=1)"
   ]
  },
  {
   "cell_type": "code",
   "execution_count": 275,
   "metadata": {},
   "outputs": [],
   "source": [
    "tweet_json_model_df=tweet_json_model_df.drop(\"lemm_words\", axis=1)\n",
    "tweet_json_model_df=tweet_json_model_df.drop(\"cln_tweet\", axis=1)"
   ]
  },
  {
   "cell_type": "code",
   "execution_count": 276,
   "metadata": {},
   "outputs": [
    {
     "data": {
      "text/html": [
       "<div>\n",
       "<style scoped>\n",
       "    .dataframe tbody tr th:only-of-type {\n",
       "        vertical-align: middle;\n",
       "    }\n",
       "\n",
       "    .dataframe tbody tr th {\n",
       "        vertical-align: top;\n",
       "    }\n",
       "\n",
       "    .dataframe thead th {\n",
       "        text-align: right;\n",
       "    }\n",
       "</style>\n",
       "<table border=\"1\" class=\"dataframe\">\n",
       "  <thead>\n",
       "    <tr style=\"text-align: right;\">\n",
       "      <th></th>\n",
       "      <th>Sentiment_score</th>\n",
       "      <th>timestamp</th>\n",
       "      <th>ticker</th>\n",
       "      <th>month</th>\n",
       "      <th>day</th>\n",
       "      <th>cleanedTweet</th>\n",
       "    </tr>\n",
       "  </thead>\n",
       "  <tbody>\n",
       "    <tr>\n",
       "      <td>0</td>\n",
       "      <td>3</td>\n",
       "      <td>2018-09-19</td>\n",
       "      <td>AMD</td>\n",
       "      <td>09</td>\n",
       "      <td>19</td>\n",
       "      <td>go hesitate however chart stable go upward</td>\n",
       "    </tr>\n",
       "    <tr>\n",
       "      <td>1</td>\n",
       "      <td>3</td>\n",
       "      <td>2018-10-09</td>\n",
       "      <td>CAT</td>\n",
       "      <td>10</td>\n",
       "      <td>09</td>\n",
       "      <td>despite china trade war hold well thumb</td>\n",
       "    </tr>\n",
       "    <tr>\n",
       "      <td>2</td>\n",
       "      <td>2</td>\n",
       "      <td>2018-07-12</td>\n",
       "      <td>AVGO</td>\n",
       "      <td>07</td>\n",
       "      <td>12</td>\n",
       "      <td>wtf</td>\n",
       "    </tr>\n",
       "    <tr>\n",
       "      <td>3</td>\n",
       "      <td>2</td>\n",
       "      <td>2018-07-19</td>\n",
       "      <td>PH</td>\n",
       "      <td>07</td>\n",
       "      <td>19</td>\n",
       "      <td>new insider file muller klaus peter transactio...</td>\n",
       "    </tr>\n",
       "    <tr>\n",
       "      <td>4</td>\n",
       "      <td>3</td>\n",
       "      <td>2018-08-23</td>\n",
       "      <td>FB</td>\n",
       "      <td>08</td>\n",
       "      <td>23</td>\n",
       "      <td>bounce tommorrow right thing gtfo</td>\n",
       "    </tr>\n",
       "    <tr>\n",
       "      <td>...</td>\n",
       "      <td>...</td>\n",
       "      <td>...</td>\n",
       "      <td>...</td>\n",
       "      <td>...</td>\n",
       "      <td>...</td>\n",
       "      <td>...</td>\n",
       "    </tr>\n",
       "    <tr>\n",
       "      <td>1039126</td>\n",
       "      <td>2</td>\n",
       "      <td>2018-08-13</td>\n",
       "      <td>CLF</td>\n",
       "      <td>08</td>\n",
       "      <td>13</td>\n",
       "      <td></td>\n",
       "    </tr>\n",
       "    <tr>\n",
       "      <td>1039127</td>\n",
       "      <td>3</td>\n",
       "      <td>2018-09-04</td>\n",
       "      <td>AMD</td>\n",
       "      <td>09</td>\n",
       "      <td>04</td>\n",
       "      <td>nan</td>\n",
       "    </tr>\n",
       "    <tr>\n",
       "      <td>1039128</td>\n",
       "      <td>0</td>\n",
       "      <td>2018-07-25</td>\n",
       "      <td>FB</td>\n",
       "      <td>07</td>\n",
       "      <td>25</td>\n",
       "      <td>damn short hours late</td>\n",
       "    </tr>\n",
       "    <tr>\n",
       "      <td>1039129</td>\n",
       "      <td>0</td>\n",
       "      <td>2018-09-28</td>\n",
       "      <td>AMD</td>\n",
       "      <td>09</td>\n",
       "      <td>28</td>\n",
       "      <td>back</td>\n",
       "    </tr>\n",
       "    <tr>\n",
       "      <td>1039130</td>\n",
       "      <td>2</td>\n",
       "      <td>2018-07-05</td>\n",
       "      <td>AMZN</td>\n",
       "      <td>07</td>\n",
       "      <td>05</td>\n",
       "      <td>lag tech today</td>\n",
       "    </tr>\n",
       "  </tbody>\n",
       "</table>\n",
       "<p>1027761 rows × 6 columns</p>\n",
       "</div>"
      ],
      "text/plain": [
       "         Sentiment_score   timestamp ticker month day  \\\n",
       "0                      3  2018-09-19    AMD    09  19   \n",
       "1                      3  2018-10-09    CAT    10  09   \n",
       "2                      2  2018-07-12   AVGO    07  12   \n",
       "3                      2  2018-07-19     PH    07  19   \n",
       "4                      3  2018-08-23     FB    08  23   \n",
       "...                  ...         ...    ...   ...  ..   \n",
       "1039126                2  2018-08-13    CLF    08  13   \n",
       "1039127                3  2018-09-04    AMD    09  04   \n",
       "1039128                0  2018-07-25     FB    07  25   \n",
       "1039129                0  2018-09-28    AMD    09  28   \n",
       "1039130                2  2018-07-05   AMZN    07  05   \n",
       "\n",
       "                                              cleanedTweet  \n",
       "0               go hesitate however chart stable go upward  \n",
       "1                  despite china trade war hold well thumb  \n",
       "2                                                      wtf  \n",
       "3        new insider file muller klaus peter transactio...  \n",
       "4                        bounce tommorrow right thing gtfo  \n",
       "...                                                    ...  \n",
       "1039126                                                     \n",
       "1039127                                                nan  \n",
       "1039128                              damn short hours late  \n",
       "1039129                                               back  \n",
       "1039130                                     lag tech today  \n",
       "\n",
       "[1027761 rows x 6 columns]"
      ]
     },
     "execution_count": 276,
     "metadata": {},
     "output_type": "execute_result"
    }
   ],
   "source": [
    "tweet_json_model_df"
   ]
  },
  {
   "cell_type": "code",
   "execution_count": 277,
   "metadata": {},
   "outputs": [],
   "source": [
    "tweet_df=tweet_json_model_df['cleanedTweet'] # Collecting the tweets for model building"
   ]
  },
  {
   "cell_type": "code",
   "execution_count": 278,
   "metadata": {},
   "outputs": [],
   "source": [
    "tweet_train_df=tweet_json_model_df['cleanedTweet'] # Collecting the tweets for model building (for tweet_train experiment)\n"
   ]
  },
  {
   "cell_type": "code",
   "execution_count": 280,
   "metadata": {},
   "outputs": [],
   "source": [
    "tweet_sc=tweet_json_model_df['Sentiment_score']"
   ]
  },
  {
   "cell_type": "code",
   "execution_count": 281,
   "metadata": {},
   "outputs": [
    {
     "data": {
      "text/plain": [
       "(1027761,)"
      ]
     },
     "execution_count": 281,
     "metadata": {},
     "output_type": "execute_result"
    }
   ],
   "source": [
    "tweet_df.shape"
   ]
  },
  {
   "cell_type": "code",
   "execution_count": 282,
   "metadata": {},
   "outputs": [
    {
     "data": {
      "text/plain": [
       "(1027761,)"
      ]
     },
     "execution_count": 282,
     "metadata": {},
     "output_type": "execute_result"
    }
   ],
   "source": [
    "tweet_train_df.shape"
   ]
  },
  {
   "cell_type": "code",
   "execution_count": 283,
   "metadata": {},
   "outputs": [
    {
     "data": {
      "text/plain": [
       "(1027761,)"
      ]
     },
     "execution_count": 283,
     "metadata": {},
     "output_type": "execute_result"
    }
   ],
   "source": [
    "tweet_sc.shape"
   ]
  },
  {
   "cell_type": "code",
   "execution_count": 284,
   "metadata": {},
   "outputs": [
    {
     "data": {
      "text/html": [
       "<div>\n",
       "<style scoped>\n",
       "    .dataframe tbody tr th:only-of-type {\n",
       "        vertical-align: middle;\n",
       "    }\n",
       "\n",
       "    .dataframe tbody tr th {\n",
       "        vertical-align: top;\n",
       "    }\n",
       "\n",
       "    .dataframe thead th {\n",
       "        text-align: right;\n",
       "    }\n",
       "</style>\n",
       "<table border=\"1\" class=\"dataframe\">\n",
       "  <thead>\n",
       "    <tr style=\"text-align: right;\">\n",
       "      <th></th>\n",
       "      <th>Sentiment_score</th>\n",
       "      <th>timestamp</th>\n",
       "      <th>ticker</th>\n",
       "      <th>month</th>\n",
       "      <th>day</th>\n",
       "      <th>cleanedTweet</th>\n",
       "    </tr>\n",
       "  </thead>\n",
       "  <tbody>\n",
       "    <tr>\n",
       "      <td>0</td>\n",
       "      <td>3</td>\n",
       "      <td>2018-09-19</td>\n",
       "      <td>AMD</td>\n",
       "      <td>09</td>\n",
       "      <td>19</td>\n",
       "      <td>go hesitate however chart stable go upward</td>\n",
       "    </tr>\n",
       "    <tr>\n",
       "      <td>1</td>\n",
       "      <td>3</td>\n",
       "      <td>2018-10-09</td>\n",
       "      <td>CAT</td>\n",
       "      <td>10</td>\n",
       "      <td>09</td>\n",
       "      <td>despite china trade war hold well thumb</td>\n",
       "    </tr>\n",
       "    <tr>\n",
       "      <td>2</td>\n",
       "      <td>2</td>\n",
       "      <td>2018-07-12</td>\n",
       "      <td>AVGO</td>\n",
       "      <td>07</td>\n",
       "      <td>12</td>\n",
       "      <td>wtf</td>\n",
       "    </tr>\n",
       "    <tr>\n",
       "      <td>3</td>\n",
       "      <td>2</td>\n",
       "      <td>2018-07-19</td>\n",
       "      <td>PH</td>\n",
       "      <td>07</td>\n",
       "      <td>19</td>\n",
       "      <td>new insider file muller klaus peter transactio...</td>\n",
       "    </tr>\n",
       "    <tr>\n",
       "      <td>4</td>\n",
       "      <td>3</td>\n",
       "      <td>2018-08-23</td>\n",
       "      <td>FB</td>\n",
       "      <td>08</td>\n",
       "      <td>23</td>\n",
       "      <td>bounce tommorrow right thing gtfo</td>\n",
       "    </tr>\n",
       "    <tr>\n",
       "      <td>...</td>\n",
       "      <td>...</td>\n",
       "      <td>...</td>\n",
       "      <td>...</td>\n",
       "      <td>...</td>\n",
       "      <td>...</td>\n",
       "      <td>...</td>\n",
       "    </tr>\n",
       "    <tr>\n",
       "      <td>1039126</td>\n",
       "      <td>2</td>\n",
       "      <td>2018-08-13</td>\n",
       "      <td>CLF</td>\n",
       "      <td>08</td>\n",
       "      <td>13</td>\n",
       "      <td></td>\n",
       "    </tr>\n",
       "    <tr>\n",
       "      <td>1039127</td>\n",
       "      <td>3</td>\n",
       "      <td>2018-09-04</td>\n",
       "      <td>AMD</td>\n",
       "      <td>09</td>\n",
       "      <td>04</td>\n",
       "      <td>nan</td>\n",
       "    </tr>\n",
       "    <tr>\n",
       "      <td>1039128</td>\n",
       "      <td>0</td>\n",
       "      <td>2018-07-25</td>\n",
       "      <td>FB</td>\n",
       "      <td>07</td>\n",
       "      <td>25</td>\n",
       "      <td>damn short hours late</td>\n",
       "    </tr>\n",
       "    <tr>\n",
       "      <td>1039129</td>\n",
       "      <td>0</td>\n",
       "      <td>2018-09-28</td>\n",
       "      <td>AMD</td>\n",
       "      <td>09</td>\n",
       "      <td>28</td>\n",
       "      <td>back</td>\n",
       "    </tr>\n",
       "    <tr>\n",
       "      <td>1039130</td>\n",
       "      <td>2</td>\n",
       "      <td>2018-07-05</td>\n",
       "      <td>AMZN</td>\n",
       "      <td>07</td>\n",
       "      <td>05</td>\n",
       "      <td>lag tech today</td>\n",
       "    </tr>\n",
       "  </tbody>\n",
       "</table>\n",
       "<p>1027761 rows × 6 columns</p>\n",
       "</div>"
      ],
      "text/plain": [
       "         Sentiment_score   timestamp ticker month day  \\\n",
       "0                      3  2018-09-19    AMD    09  19   \n",
       "1                      3  2018-10-09    CAT    10  09   \n",
       "2                      2  2018-07-12   AVGO    07  12   \n",
       "3                      2  2018-07-19     PH    07  19   \n",
       "4                      3  2018-08-23     FB    08  23   \n",
       "...                  ...         ...    ...   ...  ..   \n",
       "1039126                2  2018-08-13    CLF    08  13   \n",
       "1039127                3  2018-09-04    AMD    09  04   \n",
       "1039128                0  2018-07-25     FB    07  25   \n",
       "1039129                0  2018-09-28    AMD    09  28   \n",
       "1039130                2  2018-07-05   AMZN    07  05   \n",
       "\n",
       "                                              cleanedTweet  \n",
       "0               go hesitate however chart stable go upward  \n",
       "1                  despite china trade war hold well thumb  \n",
       "2                                                      wtf  \n",
       "3        new insider file muller klaus peter transactio...  \n",
       "4                        bounce tommorrow right thing gtfo  \n",
       "...                                                    ...  \n",
       "1039126                                                     \n",
       "1039127                                                nan  \n",
       "1039128                              damn short hours late  \n",
       "1039129                                               back  \n",
       "1039130                                     lag tech today  \n",
       "\n",
       "[1027761 rows x 6 columns]"
      ]
     },
     "execution_count": 284,
     "metadata": {},
     "output_type": "execute_result"
    }
   ],
   "source": [
    "tweet_json_model_df"
   ]
  },
  {
   "cell_type": "markdown",
   "metadata": {},
   "source": [
    "## Train test split for building "
   ]
  },
  {
   "cell_type": "code",
   "execution_count": 290,
   "metadata": {},
   "outputs": [],
   "source": [
    "x_train_tw, x_test_tw, y_train_tw, y_test_tw = train_test_split(tweet_df, tweet_sc, test_size = 0.3, random_state=123, stratify=tweet_sc)\n",
    "\n"
   ]
  },
  {
   "cell_type": "code",
   "execution_count": 292,
   "metadata": {},
   "outputs": [
    {
     "name": "stdout",
     "output_type": "stream",
     "text": [
      "(719432,)\n",
      "(308329,)\n",
      "(719432,)\n",
      "(308329,)\n"
     ]
    }
   ],
   "source": [
    "print(x_train_tw.shape)\n",
    "print(x_test_tw.shape)\n",
    "print(y_train_tw.shape)\n",
    "print(y_test_tw.shape)"
   ]
  },
  {
   "cell_type": "code",
   "execution_count": 295,
   "metadata": {},
   "outputs": [],
   "source": [
    "from sklearn.feature_extraction.text import TfidfVectorizer\n",
    "\n"
   ]
  },
  {
   "cell_type": "code",
   "execution_count": 296,
   "metadata": {},
   "outputs": [],
   "source": [
    "tfidf = TfidfVectorizer() # for normal train tweets"
   ]
  },
  {
   "cell_type": "code",
   "execution_count": 297,
   "metadata": {},
   "outputs": [],
   "source": [
    "tdm_x_train = tfidf.fit_transform(x_train_tw)\n",
    "tdm_x_test = tfidf.transform(x_test_tw)"
   ]
  },
  {
   "cell_type": "code",
   "execution_count": 299,
   "metadata": {},
   "outputs": [],
   "source": [
    "from scipy import sparse\n",
    "from scipy.sparse import csr_matrix\n",
    "\n",
    "x_train_tw_v = sparse.csr_matrix(tdm_x_train)\n",
    "x_test_tw_v = sparse.csr_matrix(tdm_x_test)"
   ]
  },
  {
   "cell_type": "code",
   "execution_count": 302,
   "metadata": {},
   "outputs": [
    {
     "data": {
      "text/plain": [
       "<719432x58626 sparse matrix of type '<class 'numpy.float64'>'\n",
       "\twith 4204309 stored elements in Compressed Sparse Row format>"
      ]
     },
     "execution_count": 302,
     "metadata": {},
     "output_type": "execute_result"
    }
   ],
   "source": [
    "tdm_x_train"
   ]
  },
  {
   "cell_type": "code",
   "execution_count": 306,
   "metadata": {},
   "outputs": [
    {
     "name": "stdout",
     "output_type": "stream",
     "text": [
      "(719432, 58626)\n"
     ]
    },
    {
     "data": {
      "text/plain": [
       "(308329, 58626)"
      ]
     },
     "execution_count": 306,
     "metadata": {},
     "output_type": "execute_result"
    }
   ],
   "source": [
    "print(x_train_tw_v.shape)\n",
    "x_test_tw_v.shape"
   ]
  },
  {
   "cell_type": "markdown",
   "metadata": {},
   "source": [
    "# Logistic regression for Sentiment Analysis"
   ]
  },
  {
   "cell_type": "code",
   "execution_count": 308,
   "metadata": {},
   "outputs": [
    {
     "name": "stdout",
     "output_type": "stream",
     "text": [
      "confusion_matrix on train data\n",
      " [[ 30350   6316  21338   2890   3521]\n",
      " [  4291  27536  38065   9577   4603]\n",
      " [  5282   5933 281966  16960   9127]\n",
      " [  4695   7361  62817  55035  14035]\n",
      " [  1133   1220  28908  17274  59199]]\n",
      "confusion_matrix on test data\n",
      " [[ 12820   2797   9207   1216   1567]\n",
      " [  1881  11555  16305   4241   2049]\n",
      " [  2327   2645 120182   7484   4192]\n",
      " [  2011   3304  27052  22970   6353]\n",
      " [   495    551  12427   7586  25112]]\n"
     ]
    }
   ],
   "source": [
    "logreg = LogisticRegression()\n",
    "logreg.fit(x_train_tw_v,y_train_tw)\n",
    "\n",
    "# Predictions on train data\n",
    "y_pred_train_tw=logreg.predict(x_train_tw_v)\n",
    "# Train data confusion Matrix\n",
    "print(\"confusion_matrix on train data\\n\",confusion_matrix(y_train_tw,y_pred_train_tw))\n",
    "\n",
    "# Predictions on test data\n",
    "y_pred_test_tw=logreg.predict(x_test_tw_v)\n",
    "# Test data confusion Matrix\n",
    "print(\"confusion_matrix on test data\\n\",confusion_matrix(y_test_tw,y_pred_test_tw))"
   ]
  },
  {
   "cell_type": "code",
   "execution_count": 309,
   "metadata": {},
   "outputs": [
    {
     "name": "stdout",
     "output_type": "stream",
     "text": [
      "\n",
      "Classification Report on Train Data\n",
      "               precision    recall  f1-score   support\n",
      "\n",
      "           0       0.66      0.47      0.55     64415\n",
      "           1       0.57      0.33      0.42     84072\n",
      "           2       0.65      0.88      0.75    319268\n",
      "           3       0.54      0.38      0.45    143943\n",
      "           4       0.65      0.55      0.60    107734\n",
      "\n",
      "    accuracy                           0.63    719432\n",
      "   macro avg       0.62      0.52      0.55    719432\n",
      "weighted avg       0.62      0.63      0.61    719432\n",
      "\n",
      "\n",
      "Classification Report on Test Data\n",
      "               precision    recall  f1-score   support\n",
      "\n",
      "           0       0.66      0.46      0.54     27607\n",
      "           1       0.55      0.32      0.41     36031\n",
      "           2       0.65      0.88      0.75    136830\n",
      "           3       0.53      0.37      0.44     61690\n",
      "           4       0.64      0.54      0.59     46171\n",
      "\n",
      "    accuracy                           0.62    308329\n",
      "   macro avg       0.61      0.52      0.54    308329\n",
      "weighted avg       0.61      0.62      0.60    308329\n",
      "\n"
     ]
    }
   ],
   "source": [
    "print(\"\\nClassification Report on Train Data\\n\",classification_report(y_train_tw,y_pred_train_tw,digits=2))\n",
    "print(\"\\nClassification Report on Test Data\\n\",classification_report(y_test_tw,y_pred_test_tw,digits=2))"
   ]
  },
  {
   "cell_type": "markdown",
   "metadata": {},
   "source": [
    "## Naive Baye's for sentiment score"
   ]
  },
  {
   "cell_type": "code",
   "execution_count": 310,
   "metadata": {},
   "outputs": [
    {
     "name": "stdout",
     "output_type": "stream",
     "text": [
      "confusion_matrix on train data\n",
      " [[ 17095   1818  36974   5518   3010]\n",
      " [  1196  16608  52556  10339   3373]\n",
      " [  1215   1347 294829  14559   7318]\n",
      " [   939   3206  83396  46090  10312]\n",
      " [   270    436  46948  18245  41835]]\n",
      "confusion_matrix on test data\n",
      " [[  6787    836  16261   2373   1350]\n",
      " [   515   6496  23111   4421   1488]\n",
      " [   541    675 125231   6998   3385]\n",
      " [   386   1463  37771  17290   4780]\n",
      " [   120    169  20957   8337  16588]]\n"
     ]
    }
   ],
   "source": [
    "classifier = MultinomialNB()\n",
    "classifier.fit(x_train_tw_v,y_train_tw)\n",
    "\n",
    "# Predictions on train data\n",
    "y_pred_train_tw_nb=classifier.predict(x_train_tw_v)\n",
    "print(\"confusion_matrix on train data\\n\",confusion_matrix(y_train_tw,y_pred_train_tw_nb))\n",
    "\n",
    "# Predictions on test data\n",
    "y_pred_test_tw_nb=classifier.predict(x_test_tw_v)\n",
    "print(\"confusion_matrix on test data\\n\",confusion_matrix(y_test_tw,y_pred_test_tw_nb))"
   ]
  },
  {
   "cell_type": "code",
   "execution_count": 311,
   "metadata": {},
   "outputs": [
    {
     "name": "stdout",
     "output_type": "stream",
     "text": [
      "Classification Report on Train Data\n",
      "               precision    recall  f1-score   support\n",
      "\n",
      "           0       0.83      0.27      0.40     64415\n",
      "           1       0.71      0.20      0.31     84072\n",
      "           2       0.57      0.92      0.71    319268\n",
      "           3       0.49      0.32      0.39    143943\n",
      "           4       0.64      0.39      0.48    107734\n",
      "\n",
      "    accuracy                           0.58    719432\n",
      "   macro avg       0.65      0.42      0.46    719432\n",
      "weighted avg       0.60      0.58      0.54    719432\n",
      "\n",
      "Classification Report on Test Data\n",
      "               precision    recall  f1-score   support\n",
      "\n",
      "           0       0.81      0.25      0.38     27607\n",
      "           1       0.67      0.18      0.28     36031\n",
      "           2       0.56      0.92      0.70    136830\n",
      "           3       0.44      0.28      0.34     61690\n",
      "           4       0.60      0.36      0.45     46171\n",
      "\n",
      "    accuracy                           0.56    308329\n",
      "   macro avg       0.62      0.40      0.43    308329\n",
      "weighted avg       0.58      0.56      0.51    308329\n",
      "\n"
     ]
    }
   ],
   "source": [
    "print(\"Classification Report on Train Data\\n\",classification_report(y_train_tw,y_pred_train_tw_nb,digits=2))\n",
    "print(\"Classification Report on Test Data\\n\",classification_report(y_test_tw,y_pred_test_tw_nb,digits=2))"
   ]
  },
  {
   "cell_type": "code",
   "execution_count": 312,
   "metadata": {},
   "outputs": [
    {
     "data": {
      "text/plain": [
       "(719432, 58626)"
      ]
     },
     "execution_count": 312,
     "metadata": {},
     "output_type": "execute_result"
    }
   ],
   "source": [
    "x_train_tw_v.shape"
   ]
  },
  {
   "cell_type": "markdown",
   "metadata": {},
   "source": [
    "## Neural network for Sentiment analysis"
   ]
  },
  {
   "cell_type": "code",
   "execution_count": 313,
   "metadata": {},
   "outputs": [],
   "source": [
    "from keras.models import Sequential\n",
    "from keras.layers import Dense\n",
    "from keras.layers import Conv2D,Dense, Flatten,Dropout,MaxPool2D\n",
    "from keras.preprocessing.text import one_hot\n",
    "from keras.preprocessing.sequence import pad_sequences\n",
    "from keras.models import Sequential\n",
    "from keras.layers import Dense\n",
    "from keras.layers import Flatten\n",
    "from keras.layers.embeddings import Embedding\n",
    "\n",
    "import numpy\n",
    "import matplotlib.pyplot as plt\n",
    "import pandas\n",
    "import math\n",
    "from keras.models import Sequential\n",
    "from keras.layers import Dense\n",
    "from keras.layers import LSTM\n",
    "from sklearn.preprocessing import MinMaxScaler\n",
    "from sklearn.metrics import mean_squared_error\n",
    "from keras.callbacks import EarlyStopping\n",
    "import os\n",
    "import numpy as np\n",
    "import pandas as pd\n",
    "\n",
    "# Importing Functions from Sklearn Module\n",
    "from sklearn.model_selection import train_test_split\n",
    "from sklearn.metrics import confusion_matrix, roc_curve, auc\n",
    "from sklearn.linear_model import LogisticRegression\n",
    "import sklearn.metrics as skm\n",
    "\n",
    "# Module for Neural Network Model Building - Keras\n",
    "from keras.models import Sequential\n",
    "from keras.layers import Dense\n",
    "from keras.utils import to_categorical\n",
    "from keras import optimizers\n",
    "\n",
    "# Visualization Modules\n",
    "import matplotlib.pyplot as plt\n",
    "%matplotlib inline  \n",
    "from sklearn.metrics import f1_score\n",
    "from sklearn.metrics import confusion_matrix, accuracy_score"
   ]
  },
  {
   "cell_type": "code",
   "execution_count": 314,
   "metadata": {},
   "outputs": [],
   "source": [
    "\n",
    "from keras.utils import to_categorical\n",
    "y_binary2 = to_categorical(y_train_tw)"
   ]
  },
  {
   "cell_type": "code",
   "execution_count": 315,
   "metadata": {},
   "outputs": [
    {
     "data": {
      "text/plain": [
       "(719432,)"
      ]
     },
     "execution_count": 315,
     "metadata": {},
     "output_type": "execute_result"
    }
   ],
   "source": [
    "y_train_tw.shape"
   ]
  },
  {
   "cell_type": "code",
   "execution_count": 316,
   "metadata": {},
   "outputs": [
    {
     "data": {
      "text/plain": [
       "array([[0., 1., 0., 0., 0.],\n",
       "       [0., 0., 0., 0., 1.],\n",
       "       [0., 0., 0., 1., 0.],\n",
       "       ...,\n",
       "       [0., 0., 1., 0., 0.],\n",
       "       [0., 0., 1., 0., 0.],\n",
       "       [0., 0., 1., 0., 0.]], dtype=float32)"
      ]
     },
     "execution_count": 316,
     "metadata": {},
     "output_type": "execute_result"
    }
   ],
   "source": [
    "y_binary2"
   ]
  },
  {
   "cell_type": "code",
   "execution_count": 317,
   "metadata": {},
   "outputs": [],
   "source": [
    "\n",
    "dl_model_nn_tw= Sequential()"
   ]
  },
  {
   "cell_type": "code",
   "execution_count": 318,
   "metadata": {},
   "outputs": [],
   "source": [
    "\n",
    "\n",
    "dl_model_nn_tw.add(Dense(5, input_dim=58626, activation='relu',  kernel_initializer='glorot_normal'))\n",
    "dl_model_nn_tw.add(Dense(25, activation='relu', kernel_initializer='glorot_normal'))\n",
    "dl_model_nn_tw.add(Dense(50, activation='relu', kernel_initializer='glorot_normal'))\n",
    "dl_model_nn_tw.add(Dense(150, activation='relu', kernel_initializer='glorot_normal'))\n",
    "dl_model_nn_tw.add(Dense(200, activation='relu', kernel_initializer='glorot_normal'))\n",
    "dl_model_nn_tw.add(Dense(150, activation='relu', kernel_initializer='glorot_normal'))\n",
    "dl_model_nn_tw.add(Dense(100, activation='relu', kernel_initializer='glorot_normal'))\n",
    "dl_model_nn_tw.add(Dense(50, activation='relu', kernel_initializer='glorot_normal'))\n",
    "dl_model_nn_tw.add(Dense(units=5, activation='softmax', kernel_initializer='glorot_normal'))\n",
    "\n"
   ]
  },
  {
   "cell_type": "code",
   "execution_count": 319,
   "metadata": {},
   "outputs": [
    {
     "name": "stdout",
     "output_type": "stream",
     "text": [
      "Model: \"sequential_2\"\n",
      "_________________________________________________________________\n",
      "Layer (type)                 Output Shape              Param #   \n",
      "=================================================================\n",
      "dense_6 (Dense)              (None, 5)                 293135    \n",
      "_________________________________________________________________\n",
      "dense_7 (Dense)              (None, 25)                150       \n",
      "_________________________________________________________________\n",
      "dense_8 (Dense)              (None, 50)                1300      \n",
      "_________________________________________________________________\n",
      "dense_9 (Dense)              (None, 150)               7650      \n",
      "_________________________________________________________________\n",
      "dense_10 (Dense)             (None, 200)               30200     \n",
      "_________________________________________________________________\n",
      "dense_11 (Dense)             (None, 150)               30150     \n",
      "_________________________________________________________________\n",
      "dense_12 (Dense)             (None, 100)               15100     \n",
      "_________________________________________________________________\n",
      "dense_13 (Dense)             (None, 50)                5050      \n",
      "_________________________________________________________________\n",
      "dense_14 (Dense)             (None, 5)                 255       \n",
      "=================================================================\n",
      "Total params: 382,990\n",
      "Trainable params: 382,990\n",
      "Non-trainable params: 0\n",
      "_________________________________________________________________\n"
     ]
    }
   ],
   "source": [
    "dl_model_nn_tw.compile(loss='categorical_crossentropy', optimizer='adam', metrics=['accuracy'])\n",
    "dl_model_nn_tw.summary()"
   ]
  },
  {
   "cell_type": "code",
   "execution_count": 320,
   "metadata": {},
   "outputs": [
    {
     "name": "stdout",
     "output_type": "stream",
     "text": [
      "Train on 575545 samples, validate on 143887 samples\n",
      "Epoch 1/5\n",
      "575545/575545 [==============================] - 355s 616us/step - loss: 1.0258 - accuracy: 0.6153 - val_loss: 0.9579 - val_accuracy: 0.6491\n",
      "Epoch 2/5\n",
      "575545/575545 [==============================] - 384s 667us/step - loss: 0.9225 - accuracy: 0.6574 - val_loss: 0.9325 - val_accuracy: 0.6546\n",
      "Epoch 3/5\n",
      "575545/575545 [==============================] - 354s 615us/step - loss: 0.8969 - accuracy: 0.6642 - val_loss: 0.9337 - val_accuracy: 0.6522\n",
      "Epoch 4/5\n",
      "575545/575545 [==============================] - 356s 618us/step - loss: 0.8811 - accuracy: 0.6693 - val_loss: 0.9351 - val_accuracy: 0.6537\n",
      "Epoch 5/5\n",
      "575545/575545 [==============================] - 372s 646us/step - loss: 0.8709 - accuracy: 0.6734 - val_loss: 0.9309 - val_accuracy: 0.6537\n"
     ]
    },
    {
     "data": {
      "text/plain": [
       "<keras.callbacks.callbacks.History at 0x1b17810b10>"
      ]
     },
     "execution_count": 320,
     "metadata": {},
     "output_type": "execute_result"
    }
   ],
   "source": [
    "dl_model_nn_tw.fit(x=x_train_tw_v, y=y_binary2, batch_size=32, epochs=5, validation_split=0.2)"
   ]
  },
  {
   "cell_type": "code",
   "execution_count": 321,
   "metadata": {},
   "outputs": [
    {
     "data": {
      "text/plain": [
       "array([[ 14166,   4124,   6115,   1078,   2124],\n",
       "       [  1431,  15445,  12695,   3967,   2493],\n",
       "       [  2714,   3368, 116869,   8186,   5693],\n",
       "       [  2295,   4071,  23448,  25456,   6420],\n",
       "       [   550,    395,   7914,   7672,  29640]])"
      ]
     },
     "execution_count": 321,
     "metadata": {},
     "output_type": "execute_result"
    }
   ],
   "source": [
    "y_train_pred_nn_tw=dl_model_nn_tw.predict_classes(x_train_tw_v)\n",
    "y_test_pred_nn_tw=dl_model_nn_tw.predict_classes(x_test_tw_v)\n",
    "confusion_matrix(y_true=y_test_tw, y_pred=y_test_pred_nn_tw)\n"
   ]
  },
  {
   "cell_type": "code",
   "execution_count": 322,
   "metadata": {},
   "outputs": [
    {
     "name": "stdout",
     "output_type": "stream",
     "text": [
      "Train_Accuracy: 0.68\n",
      "Train F1-Score: 0.62\n",
      "Test_Accuracy: 0.65\n",
      "Validation F1-Score: 0.59\n"
     ]
    }
   ],
   "source": [
    "##### Train Accuracy\n",
    "\n",
    "accuracy_train = accuracy_score(y_train_tw, y_train_pred_nn_tw)\n",
    "print('Train_Accuracy: {:.2f}'.format(accuracy_train))\n",
    "f1=f1_score(y_train_tw, y_train_pred_nn_tw, average='macro')\n",
    "print('Train F1-Score: {:.2f}'.format(f1))\n",
    "\n",
    "\n",
    "##### Test Accuracy\n",
    "\n",
    "accuracy_test = accuracy_score(y_test_tw, y_test_pred_nn_tw)\n",
    "print('Test_Accuracy: {:.2f}'.format(accuracy_test))\n",
    "f1=f1_score(y_test_tw, y_test_pred_nn_tw, average='macro')\n",
    "print('Validation F1-Score: {:.2f}'.format(f1))"
   ]
  }
 ],
 "metadata": {
  "accelerator": "TPU",
  "colab": {
   "collapsed_sections": [],
   "machine_shape": "hm",
   "name": "pramod_PGP.ipynb",
   "provenance": []
  },
  "kernelspec": {
   "display_name": "Python 3",
   "language": "python",
   "name": "python3"
  },
  "language_info": {
   "codemirror_mode": {
    "name": "ipython",
    "version": 3
   },
   "file_extension": ".py",
   "mimetype": "text/x-python",
   "name": "python",
   "nbconvert_exporter": "python",
   "pygments_lexer": "ipython3",
   "version": "3.7.4"
  }
 },
 "nbformat": 4,
 "nbformat_minor": 1
}
